{
 "cells": [
  {
   "cell_type": "markdown",
   "metadata": {},
   "source": [
    "1. Dos personas cumplen el mismo día\n",
    "2. Cúal es la persona de mayor edad\n",
    "3. Cúal es la persona de menor edad\n",
    "4. Quien es la persona que cumple primero en el año\n"
   ]
  },
  {
   "cell_type": "code",
   "execution_count": 1,
   "metadata": {},
   "outputs": [
    {
     "name": "stdout",
     "output_type": "stream",
     "text": [
      "Este programa compara las edades de las personas, te dice el mayor y el menor. Además quien cumple primero según su mes.\n",
      "Ingrese la cantidad de personas a comprar: 2\n",
      "Digite nombre1: David\n",
      "Digite edad: 17\n",
      "Digite el mes de cumpleaños: agosto\n",
      "Digite nombre2: Francisco\n",
      "Digite edad: 25\n",
      "Digite el mes de cumpleaños: enero\n",
      "{1: ['David', 17, 'agosto'], 2: ['Francisco', 25, 'enero']}\n",
      "la persona de mayor edad es:  Francisco\n",
      "la persona con menor edad es:  David\n",
      "La persona que cumple primero es:  Francisco\n"
     ]
    }
   ],
   "source": [
    "def comparacion():    \n",
    "    print(\"Este programa compara las edades de las personas, te dice el mayor y el menor. Además quien cumple primero según su mes.\")\n",
    "    n = int(input(\"Ingrese la cantidad de personas a comprar: \")) \n",
    "    personas={}\n",
    "    chicos = 0\n",
    "    for i in range (n):\n",
    "        chicos += 1\n",
    "        nombre=str(input(\"Digite nombre\" + str (i+1) + \": \"))\n",
    "        edad=int(input(\"Digite edad: \"))\n",
    "        mes = str(input(\"Digite el mes de cumpleaños: \"))\n",
    "        personas[chicos]=[nombre,edad, mes]\n",
    "    print(personas)\n",
    "    mayor=0.0\n",
    "    menor=999.9\n",
    "    cumple_primero = \"quien sea :v\"\n",
    "    for i in personas:\n",
    "        if personas[i][1] > mayor:\n",
    "            mayor=personas[i][1]\n",
    "            nombre1=personas[i][0]\n",
    "        if personas[i][1] < menor:\n",
    "            menor= personas[i][1]\n",
    "            nombre2=personas[i][0]\n",
    "        if personas[i][2] == \"Diciembre\" or \"diciembre\":\n",
    "            cumple_primero = personas[i][0]\n",
    "        if personas[i][2] == \"Noviembre\" or \"noviembre\":\n",
    "            cumple_primero = personas[i][0]\n",
    "        if personas[i][2] == \"Octubre\" or \"octubre\":\n",
    "            cumple_primero = personas[i][0]\n",
    "        if personas[i][2] == \"Septiembre\" or \"septiembre\":\n",
    "            cumple_primero = personas[i][0]\n",
    "        if personas[i][2] == \"Agosto\" or \"agosto\":\n",
    "            cumple_primero = personas[i][0]\n",
    "        if personas[i][2] == \"Julio\" or \"julio\":\n",
    "            cumple_primero = personas[i][0]\n",
    "        if personas[i][2] == \"Junio\" or \"junio\":\n",
    "            cumple_primero = personas[i][0]\n",
    "        if personas[i][2] == \"Mayo\" or \"mayo\":\n",
    "            cumple_primero = personas[i][0]\n",
    "        if personas[i][2] == \"Abril\" or \"abril\":\n",
    "            cumple_primero = personas[i][0]\n",
    "        if personas[i][2] == \"Mazo\" or \"marzo\":\n",
    "            cumple_primero = personas[i][0]\n",
    "        if personas[i][2] == \"Febrero\" or \"febrero\":\n",
    "            cumple_primero = personas[i][0]\n",
    "        if personas[i][2] == \"Enero\" or \"enero\":\n",
    "            cumple_primero = personas[i][0]\n",
    "\n",
    "    print(\"la persona de mayor edad es: \", nombre1)\n",
    "    print(\"la persona con menor edad es: \", nombre2)\n",
    "    print(\"La persona que cumple primero es: \", cumple_primero)\n",
    "comparacion()\n"
   ]
  }
 ],
 "metadata": {
  "kernelspec": {
   "display_name": "Python 3",
   "language": "python",
   "name": "python3"
  },
  "language_info": {
   "codemirror_mode": {
    "name": "ipython",
    "version": 3
   },
   "file_extension": ".py",
   "mimetype": "text/x-python",
   "name": "python",
   "nbconvert_exporter": "python",
   "pygments_lexer": "ipython3",
   "version": "3.7.3"
  }
 },
 "nbformat": 4,
 "nbformat_minor": 2
}

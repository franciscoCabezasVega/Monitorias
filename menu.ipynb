{
 "cells": [
  {
   "cell_type": "code",
   "execution_count": null,
   "metadata": {},
   "outputs": [
    {
     "name": "stdout",
     "output_type": "stream",
     "text": [
      "\n",
      "\tMENÚ\n",
      "\n",
      "-------ANGRY BIRDS------------\n",
      "1. Alcanzar un  Objetivo ingresando la velocidad inicial.\n",
      "2. Alcanzar el objetivo ingresando velocidad inicial y velocidad final con ciclo FOR \n",
      "3. Alcanzar el objetivo ingresando velocidad inicial y velocidad final con ciclo WHILE \n",
      "4. Terminar\n",
      "-------------------\n"
     ]
    }
   ],
   "source": [
    "#Definición de las funciones\n",
    "def mostrar_menu():\n",
    "    print(\"\\n\\tMENÚ\\n\")\n",
    "    print(\"-------ANGRY BIRDS------------\")\n",
    "    print(\"1. Alcanzar un  Objetivo ingresando la velocidad inicial.\")\n",
    "    print(\"2. Alcanzar el objetivo ingresando velocidad inicial y velocidad final con ciclo FOR \")\n",
    "    print(\"3. Alcanzar el objetivo ingresando velocidad inicial y velocidad final con ciclo WHILE \")    \n",
    "    print(\"4. Terminar\")\n",
    "    print(\"-------------------\")\n",
    " \n",
    "def opcion():\n",
    " \n",
    "    #validación selección\n",
    "    flag = False\n",
    "    while not(flag) :\n",
    "        seleccion=int(input(\"\\nDigite opción <1-4>:\"))\n",
    "        if seleccion>=1 and seleccion <=4:\n",
    "            flag= True\n",
    "    return seleccion\n",
    " \n",
    "def programa1():\n",
    "  print(\"Programa 1\")\n",
    "    \n",
    "def programa2():\n",
    "  print(\"Programa 2\")\n",
    "\n",
    "def programa3():\n",
    "  print(\"Programa 3\")\n",
    "\n",
    " \n",
    " \n",
    "def main():\n",
    "    control = False\n",
    "    mostrar_menu()\n",
    "    while not control :\n",
    " \n",
    "        op = opcion()\n",
    "        if op == 1:\n",
    "            programa1()\n",
    "        elif op == 2:\n",
    "            programa2()\n",
    "        elif op == 3:\n",
    "            programa3()\n",
    "        elif op == 4:\n",
    "            control = True\n",
    "        else:\n",
    "            print(\"\\nError de seleccion\\n \")\n",
    "    print(\"fin del programa\")\n",
    "main()"
   ]
  },
  {
   "cell_type": "code",
   "execution_count": null,
   "metadata": {},
   "outputs": [],
   "source": []
  }
 ],
 "metadata": {
  "kernelspec": {
   "display_name": "Python 3",
   "language": "python",
   "name": "python3"
  },
  "language_info": {
   "codemirror_mode": {
    "name": "ipython",
    "version": 3
   },
   "file_extension": ".py",
   "mimetype": "text/x-python",
   "name": "python",
   "nbconvert_exporter": "python",
   "pygments_lexer": "ipython3",
   "version": "3.7.1"
  }
 },
 "nbformat": 4,
 "nbformat_minor": 2
}

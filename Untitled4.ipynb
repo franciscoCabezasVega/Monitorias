{
 "cells": [
  {
   "cell_type": "code",
   "execution_count": null,
   "metadata": {},
   "outputs": [],
   "source": [
    "#------------------PRIMER EJEMPLO------------------\n",
    "#conjunto = {x|x es un numero entero, tal que x >= 1 y x <= 50\n",
    "\n",
    "conjuntoElevado = set() #declara un conjunto vacio\n",
    "n = 200 #El limite del conjunto sera 50\n",
    "for i in range(1, n+1): #Ciclo del 1 al 50\n",
    "   \n",
    "    elevar = i ** 2\n",
    "    if elevar >= 1 and elevar <= 200:\n",
    "        conjuntoElevado.add(elevar)\n",
    "        \n",
    "a = sorted(conjuntoElevado)\n",
    "\n",
    "print(a)\n",
    "print(\"\")\n",
    " \n",
    "#------------------SEGUNDO EJEMPLO------------------\n",
    "x = int(input(\"Ingrese un numero: \"))\n",
    "if x in conjuntoElevado:\n",
    "    print (x , \" pertenece al conjunto\")\n",
    "else:\n",
    "    print (x, \" no pertenece al conjunto\")\n"
   ]
  },
  {
   "cell_type": "code",
   "execution_count": 2,
   "metadata": {},
   "outputs": [
    {
     "name": "stdout",
     "output_type": "stream",
     "text": [
      "[1, 2, 3, 4, 5, 6, 7, 8, 9, 10, 11, 12, 13, 14, 15, 16, 17, 18, 19, 20, 21, 22, 23, 24, 25, 26, 27, 28, 29, 30, 31, 32, 33, 34, 35, 36, 37, 38, 39, 40, 41, 42, 43, 44, 45, 46, 47, 48, 49, 50, 51, 52, 53, 54, 55, 56, 57, 58, 59, 60, 61, 62, 63, 64, 65, 66, 67, 68, 69, 70, 71, 72, 73, 74, 75, 76, 77, 78, 79, 80, 81, 82, 83, 84, 85, 86, 87, 88, 89, 90, 91, 92, 93, 94, 95, 96, 97, 98, 99, 100]\n",
      "\n",
      "Ingrese un numero: 101\n",
      "101  no pertenece al conjunto\n"
     ]
    }
   ],
   "source": [
    "#------------------PRIMER EJEMPLO------------------\n",
    "#conjunto = {x|x es un numero entero, tal que x >= 1 y x <= 50\n",
    "\n",
    "conjunto = set() #declara un conjunto vacio\n",
    "n = 100 #El limite del conjunto sera 50\n",
    "for i in range(1, n+1): #Ciclo del 1 al 50\n",
    "\n",
    "    conjunto.add(i)\n",
    "        \n",
    "a = sorted(conjunto)\n",
    "\n",
    "print(a)\n",
    "print(\"\")\n",
    " \n",
    "#------------------SEGUNDO EJEMPLO------------------\n",
    "x = int(input(\"Ingrese un numero: \"))\n",
    "if x in conjunto:\n",
    "    print (x , \" pertenece al conjunto\")\n",
    "else:\n",
    "    print (x, \" no pertenece al conjunto\")"
   ]
  },
  {
   "cell_type": "code",
   "execution_count": 10,
   "metadata": {},
   "outputs": [
    {
     "name": "stdout",
     "output_type": "stream",
     "text": [
      "2\n"
     ]
    }
   ],
   "source": [
    "import math\n",
    "\n",
    "print(round(math.sqrt( 2 )**2))\n"
   ]
  },
  {
   "cell_type": "code",
   "execution_count": 21,
   "metadata": {},
   "outputs": [
    {
     "name": "stdout",
     "output_type": "stream",
     "text": [
      "a {0, 1, 2, 3, 4, 5, 6}\n",
      "b {3}\n",
      "c {0, 1, 2, 4, 5, 6}\n",
      "d {0, 6}\n",
      "\n",
      "a {'a', 'g', 'h', 'e', 'b', 'f', 'c', 'd'}\n",
      "b {'a', 'e', 'b', 'c', 'd'}\n",
      "c {'g', 'h', 'f'}\n",
      "d {'g', 'f', 'h'}\n",
      "\n",
      "a {4, 6}\n",
      "b {0, 1, 2, 3, 4, 5, 6, 7, 8, 9, 10}\n",
      "c {4, 5, 6, 8, 10}\n",
      "d {0, 2, 4, 5, 6, 7, 8, 9, 10}\n"
     ]
    }
   ],
   "source": [
    "A = {1,2,3,4,5}\n",
    "B = {0,3,6}\n",
    "\n",
    "print(\"a\", A|B)\n",
    "print(\"b\", A&B)\n",
    "print(\"c\", A^B)\n",
    "print(\"d\", B-A)\n",
    "\n",
    "print(\"\")\n",
    "\n",
    "A = {'a','b','c','d','e'}\n",
    "B = {'a' ,'b' ,'c', 'd', 'e', 'f', 'g','h'}\n",
    "\n",
    "print(\"a\", A|B)\n",
    "print(\"b\", A&B)\n",
    "print(\"c\", A^B)\n",
    "print(\"d\", B-A)\n",
    "\n",
    "print(\"\")\n",
    "\n",
    "A = {0,2,4,6,8,10}\n",
    "B = {0,1,2,3,4,5,6}\n",
    "C = {4,5,6,7,8,9,10}\n",
    "\n",
    "print(\"a\", A&B&C)\n",
    "print(\"b\", A|B|C)\n",
    "print(\"c\", (A|B)&C )\n",
    "print(\"d\", (A&B)|C )\n"
   ]
  },
  {
   "cell_type": "code",
   "execution_count": 31,
   "metadata": {},
   "outputs": [
    {
     "name": "stdout",
     "output_type": "stream",
     "text": [
      "1 2 3 \n",
      "4 5 6 \n",
      "7 8 9 \n",
      "\n",
      "La suma de los números pares es: 20\n"
     ]
    }
   ],
   "source": [
    "a = [[1, 2, 3], [4, 5, 6], [7, 8, 9]]\n",
    "cont = 0\n",
    "for row in a:\n",
    "    for elem in row:\n",
    "        print(elem, end=' ')\n",
    "        if elem % 2 == 0:\n",
    "            cont += elem\n",
    "    print()\n",
    "\n",
    "print()\n",
    "    \n",
    "print(f\"La suma de los números pares es: {cont}\")"
   ]
  },
  {
   "cell_type": "code",
   "execution_count": null,
   "metadata": {},
   "outputs": [],
   "source": []
  }
 ],
 "metadata": {
  "kernelspec": {
   "display_name": "Python 3",
   "language": "python",
   "name": "python3"
  },
  "language_info": {
   "codemirror_mode": {
    "name": "ipython",
    "version": 3
   },
   "file_extension": ".py",
   "mimetype": "text/x-python",
   "name": "python",
   "nbconvert_exporter": "python",
   "pygments_lexer": "ipython3",
   "version": "3.7.1"
  }
 },
 "nbformat": 4,
 "nbformat_minor": 2

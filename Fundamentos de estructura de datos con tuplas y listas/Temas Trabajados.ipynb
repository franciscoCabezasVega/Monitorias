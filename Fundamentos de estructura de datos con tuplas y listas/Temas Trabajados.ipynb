{
 "cells": [
  {
   "cell_type": "code",
   "execution_count": 16,
   "metadata": {},
   "outputs": [
    {
     "name": "stdout",
     "output_type": "stream",
     "text": [
      "Valores de la lista: [67, 69, 59, 62, 96, 7, 20, 62, 27, 7, 8, 53, 88, 56, 98, 68, 57, 10, 40, 86]\n",
      "\n",
      "El número mayor es 98 y ocupa la posición 15\n"
     ]
    }
   ],
   "source": [
    "import random #Libreria para números aleatorios\n",
    "\n",
    "lista = [] #Lista vacia\n",
    "mayor = 0 #Variable de comparación\n",
    "\n",
    "for x in range(20): #Llenado automatico de 20 números\n",
    "    dato = random.randint(1,100) #Datos aleatorios del 1 al 100\n",
    "    lista.append(dato) #Ingresando datos a la lsita\n",
    "    \n",
    "print(\"Valores de la lista:\", lista) #Imprimiendo lista\n",
    "\n",
    "print() #Salto de línea\n",
    "\n",
    "for y in range(len(lista)): #Buscando en la lista por las posiciones\n",
    "    if mayor < lista[y]: #Determinar quien es mayor\n",
    "        mayor = lista[y] #Guardando en una variable el número mayor\n",
    "        pos = y #Guardando en una variable la posición\n",
    "        \n",
    "print(f\"El número mayor es {mayor} y ocupa la posición {pos+1}\") #Imprimiendo el resultado       "
   ]
  },
  {
   "cell_type": "code",
   "execution_count": 24,
   "metadata": {},
   "outputs": [
    {
     "name": "stdout",
     "output_type": "stream",
     "text": [
      "Valores de la lista M: [39, 65, 63, 76, 66, 45, 88, 65, 10, 48, 33, 45, 16, 53, 96, 41, 85, 56, 14, 37, 3, 12, 22, 93, 2, 43, 74, 68, 99, 69, 40, 29, 63, 88, 16, 56, 36, 98, 3, 85, 72, 77, 9, 44, 29, 52, 16, 53, 83, 13, 76, 56, 41, 12, 45, 35, 73, 23, 96, 95, 38, 83, 17, 80, 89, 5, 32, 14, 81, 23, 92, 34, 62, 64, 65, 59, 22, 93, 21, 84, 16, 90, 2, 23, 76, 80, 44, 99, 78, 84, 33, 40, 70, 100, 68, 50, 90, 42, 65, 25]\n",
      "\n",
      "Valores de la lista N: [40, 72, 62, 79, 56, 32, 84, 15, 80, 60, 56, 10, 22, 87, 43, 50, 98, 85, 94, 88, 75, 30, 98, 76, 16, 36, 14, 46, 78, 50, 52, 73, 33, 84, 37, 52, 81, 92, 98, 94, 23, 96, 56, 39, 5, 2, 65, 70, 50, 84, 39, 61, 17, 67, 3, 98, 77, 46, 74, 42, 42, 56, 89, 68, 34, 89, 54, 93, 5, 78, 57, 53, 38, 49, 22, 3, 47, 39, 92, 94, 95, 98, 95, 6, 74, 99, 35, 53, 21, 46, 95, 54, 65, 68, 88, 73, 64, 35, 9, 35]\n",
      "\n",
      "DIFERENTES\n"
     ]
    }
   ],
   "source": [
    "import random #Libreria para números aleatorios\n",
    "\n",
    "M = [] #Lista vacia\n",
    "N = [] #Lista vacia\n",
    "\n",
    "comparacion = [] #Lista para evaluar la comparación\n",
    "\n",
    "for x in range(100): #Llenado automatico de 100 números\n",
    "    dato = random.randint(1,100) #Datos aleatorios del 1 al 100\n",
    "    M.append(dato) #Ingresando datos a la lista\n",
    "    \n",
    "for y in range(100): #Llenado automatico de 100 números\n",
    "    dato = random.randint(1,100) #Datos aleatorios del 1 al 100\n",
    "    N.append(dato) #Ingresando datos a la lista\n",
    "    \n",
    "print(\"Valores de la lista M:\", M) #Imprimiendo lista M\n",
    "print() #Salto de línea\n",
    "print(\"Valores de la lista N:\", N) #Imprimiendo lista N\n",
    "\n",
    "print() #Salto de línea\n",
    "\n",
    "for elemento in M: #Recorro la lista M\n",
    "    if elemento in N: #Condición que evalua que si exsite el elemento en ambas listas\n",
    "        comparacion.append(elemento) #Agregar a la lista para verificar\n",
    "\n",
    "if len(comparacion) == 100: #Declarando la condición que debe cumplirse en cada caso\n",
    "    print(\"IGUALES\")\n",
    "else:\n",
    "    print(\"DIFERENTES\")\n",
    "        "
   ]
  },
  {
   "cell_type": "code",
   "execution_count": 26,
   "metadata": {},
   "outputs": [
    {
     "name": "stdout",
     "output_type": "stream",
     "text": [
      "Valores de la lista: [96, 95, 55, 15, 41, 40, 98, 88, 59, 48, 61, 1, 83, 87, 89, 49, 3, 26, 4, 6, 87, 2, 39, 68, 99, 74, 23, 72, 99, 83, 21, 33, 61, 45, 73, 89, 5, 85, 31, 12, 73, 70, 10, 60, 22, 17, 92, 23, 83, 94, 56, 69, 51, 3, 45, 72, 3, 10, 37, 84, 17, 26, 74, 62, 7, 7, 44, 15, 24, 27, 96, 20, 81, 31, 86, 38, 26, 29, 83, 12, 67, 10, 100, 29, 76, 3, 7, 77, 10, 8, 26, 81, 65, 52, 37, 30, 23, 13, 80, 91, 79, 3, 39, 17, 7, 30, 41, 34, 24, 89, 27, 95, 39, 99, 88, 58, 80, 53, 72, 21, 9, 70, 55, 24, 3, 73, 43, 30, 84, 33, 49, 22, 48, 57, 39, 56, 100, 73, 76, 94, 62, 17, 78, 53, 38, 68, 86, 9, 6, 28]\n",
      "\n",
      "Valores de la lista inversa: [28, 6, 9, 86, 68, 38, 53, 78, 17, 62, 94, 76, 73, 100, 56, 39, 57, 48, 22, 49, 33, 84, 30, 43, 73, 3, 24, 55, 70, 9, 21, 72, 53, 80, 58, 88, 99, 39, 95, 27, 89, 24, 34, 41, 30, 7, 17, 39, 3, 79, 91, 80, 13, 23, 30, 37, 52, 65, 81, 26, 8, 10, 77, 7, 3, 76, 29, 100, 10, 67, 12, 83, 29, 26, 38, 86, 31, 81, 20, 96, 27, 24, 15, 44, 7, 7, 62, 74, 26, 17, 84, 37, 10, 3, 72, 45, 3, 51, 69, 56, 94, 83, 23, 92, 17, 22, 60, 10, 70, 73, 12, 31, 85, 5, 89, 73, 45, 61, 33, 21, 83, 99, 72, 23, 74, 99, 68, 39, 2, 87, 6, 4, 26, 3, 49, 89, 87, 83, 1, 61, 48, 59, 88, 98, 40, 41, 15, 55, 95, 96]\n"
     ]
    }
   ],
   "source": [
    "import random #Libreria para números aleatorios\n",
    "\n",
    "lista = [] #Lista vacia\n",
    "listaInversa = [] #Lista vacia\n",
    "\n",
    "for x in range(150): #Llenado automatico de 150 números\n",
    "    dato = random.randint(1,100) #Datos aleatorios del 1 al 100\n",
    "    lista.append(dato) #Ingresando datos a la lsita\n",
    "    \n",
    "print(\"Valores de la lista:\", lista) #Imprimiendo lista\n",
    "\n",
    "for y in reversed(lista):  \n",
    "        listaInversa.append(y)\n",
    "    \n",
    "print() #Salto de línea\n",
    "print(\"Valores de la lista inversa:\", listaInversa) #Imprimiendo lista inversa"
   ]
  },
  {
   "cell_type": "code",
   "execution_count": null,
   "metadata": {},
   "outputs": [],
   "source": []
  }
 ],
 "metadata": {
  "kernelspec": {
   "display_name": "Python 3",
   "language": "python",
   "name": "python3"
  },
  "language_info": {
   "codemirror_mode": {
    "name": "ipython",
    "version": 3
   },
   "file_extension": ".py",
   "mimetype": "text/x-python",
   "name": "python",
   "nbconvert_exporter": "python",
   "pygments_lexer": "ipython3",
   "version": "3.7.3"
  }
 },
 "nbformat": 4,
 "nbformat_minor": 2
}

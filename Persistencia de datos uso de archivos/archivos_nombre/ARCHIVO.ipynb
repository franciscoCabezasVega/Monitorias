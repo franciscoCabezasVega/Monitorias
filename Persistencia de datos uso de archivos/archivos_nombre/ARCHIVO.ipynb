{
 "cells": [
  {
   "cell_type": "markdown",
   "metadata": {},
   "source": [
    "Crear una carpeta con la palabra archivos_nombre luego crear dos archivos tipo texto con los\n",
    "siguientes contenidos\n",
    "Nombre del archivo: deportes1.txt\n",
    "Contenido:\n",
    "voleybol basquebol tenis natacion\n",
    "Nombre del archivo: deportes2.txt\n",
    "Contenido:\n",
    "atletismo basquebol tenis pingpong\n",
    "Luego crear un archivo nuevo debidamente marcado deportes_sunombre\n",
    "Generar, a partir de esta información, las listas de deportes exclusivas de los archivos deportes1\n",
    "y deportes2 .\n",
    "Su programa deberá abrir los archivos y depositar los datos en conjuntos luego mostrar las\n",
    "siguientes acciones: 1. Los deportes que aparecen en ambos equipos. 2. Los deportes que aparecen\n",
    "en el primer equipo pero no en el segundo. 3. los deportes que aparecen en el segundo equipo\n",
    "pero no en el primero. 4. todos los deportes"
   ]
  },
  {
   "cell_type": "code",
   "execution_count": 1,
   "metadata": {},
   "outputs": [
    {
     "name": "stdout",
     "output_type": "stream",
     "text": [
      "Equipo 1 {'voleybol', 'natacion', 'tenis', 'basquebol'}\n",
      "Equipo 2 {'pingpong', 'atletismo', 'tenis', 'basquebol'}\n",
      "\n",
      "Deportes comunes\n",
      "{'tenis', 'basquebol'}\n",
      "\n",
      "Deportes exclusivos del equipo 1\n",
      "{'voleybol', 'natacion'}\n",
      "\n",
      "Deportes exclusivos del equipo 2\n",
      "{'pingpong', 'atletismo'}\n",
      "\n",
      "Totalidad de los deportes\n",
      "{'tenis', 'basquebol', 'natacion', 'atletismo', 'voleybol', 'pingpong'}\n"
     ]
    }
   ],
   "source": [
    "#leemos la primera lista de deportes y\n",
    "#la guardamos en un set\n",
    "#leemos el primer archivo de deportes\n",
    "deportes1= set()\n",
    "for linea in open('deportes1.txt'):\n",
    "    deporte = linea.strip()\n",
    "    deportes1.add(deporte)\n",
    "#leemos el segundo archivo de deportes\n",
    "deportes2 = set()\n",
    "for linea in open('deportes2.txt'):\n",
    "    deporte = linea.strip()\n",
    "    deportes2.add(deporte)\n",
    "print('Equipo 1',deportes1)\n",
    "print('Equipo 2',deportes2)\n",
    "#Ahora podemos hacer las comparaciones entre los conjuntos de deportes\n",
    "#1. Los deportes que aparecen en ambos equipos.\n",
    "print ('\\nDeportes comunes')\n",
    "print (deportes1 & deportes2)\n",
    "#2. Los deportes que aparecen en el primer equipo pero no en el segundo.\n",
    "print ('\\nDeportes exclusivos del equipo 1')\n",
    "print (deportes1 - deportes2)\n",
    "#3. los deportes que aparecen en el segundo equipo pero no en el primero.\n",
    "print ('\\nDeportes exclusivos del equipo 2')\n",
    "print (deportes2 - deportes1)\n",
    "#4. todos los deportes\n",
    "print ('\\nTotalidad de los deportes')\n",
    "print (deportes2 | deportes1)\n"
   ]
  },
  {
   "cell_type": "code",
   "execution_count": null,
   "metadata": {},
   "outputs": [],
   "source": []
  }
 ],
 "metadata": {
  "kernelspec": {
   "display_name": "Python 3",
   "language": "python",
   "name": "python3"
  },
  "language_info": {
   "codemirror_mode": {
    "name": "ipython",
    "version": 3
   },
   "file_extension": ".py",
   "mimetype": "text/x-python",
   "name": "python",
   "nbconvert_exporter": "python",
   "pygments_lexer": "ipython3",
   "version": "3.7.3"
  }
 },
 "nbformat": 4,
 "nbformat_minor": 2
}

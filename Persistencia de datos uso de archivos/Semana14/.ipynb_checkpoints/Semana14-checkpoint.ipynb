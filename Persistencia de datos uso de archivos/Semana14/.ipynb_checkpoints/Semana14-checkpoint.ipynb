{
 "cells": [
  {
   "cell_type": "markdown",
   "metadata": {},
   "source": [
    "<h1> 1 Escritura de archivos </h1>"
   ]
  },
  {
   "cell_type": "code",
   "execution_count": 2,
   "metadata": {},
   "outputs": [],
   "source": [
    "# Abre archivo en modo escritura \n",
    "archivo = open(\"datos1.txt\",\"w\") \n",
    "# Escribe la siguiente cadena de texto en el archivo \n",
    "archivo.write(\"hola esto es una prueba\") \n",
    "# Cierra archivo \n",
    "archivo.close()"
   ]
  },
  {
   "cell_type": "code",
   "execution_count": 3,
   "metadata": {},
   "outputs": [],
   "source": [
    "# Declara lista \n",
    "dias = ['lunes ', 'martes ', 'miercoles ', 'jueves ', 'viernes ']\n",
    "# Abre archivo en modo escritura \n",
    "archivo = open('datos2.txt','w')\n",
    "# Escribe toda la lista en el archivo \n",
    "archivo.writelines(dias)\n",
    "# Cierra archivo \n",
    "archivo.close()"
   ]
  },
  {
   "cell_type": "code",
   "execution_count": 4,
   "metadata": {},
   "outputs": [],
   "source": [
    "# Declara lista \n",
    "dias = ['lunes', 'martes', 'miercoles', 'jueves', 'viernes']\n",
    "# Abre archivo en modo escritura \n",
    "archivo = open('datos3.txt','w') \n",
    "# Escribe toda la lista en el archivo con un salto de linea\n",
    "for linea in dias: \n",
    "    archivo.write(linea+'\\n')\n",
    "# Cierra archivo \n",
    "archivo.close()"
   ]
  },
  {
   "cell_type": "markdown",
   "metadata": {},
   "source": [
    "<h1> 2 Lectura de archivos </h1>"
   ]
  },
  {
   "cell_type": "code",
   "execution_count": 5,
   "metadata": {},
   "outputs": [
    {
     "name": "stdout",
     "output_type": "stream",
     "text": [
      "Nombre;taller;parcial;quiz\n",
      "\n",
      "['Juan;4;3;2\\n', 'Esteban;3;1;1\\n', 'Luisa;5;4.2;1.8\\n', 'Cristian;4;3.75;3.5\\n', 'Carlos;4;2.45;0.8']\n"
     ]
    }
   ],
   "source": [
    "# Abre archivo en modo de lectura \n",
    "archivo = open(\"notas2.csv\",\"r\")\n",
    "# Lee solo la primera linea\n",
    "linea1 = archivo.readline() \n",
    "# Lee todas las linea\n",
    "lineas = archivo.readlines() \n",
    "# Cierra archivo \n",
    "archivo.close()\n",
    "# Imprimir lineas \n",
    "print(linea1) \n",
    "print(lineas)"
   ]
  },
  {
   "cell_type": "code",
   "execution_count": 6,
   "metadata": {},
   "outputs": [
    {
     "name": "stdout",
     "output_type": "stream",
     "text": [
      "Nombre;taller;parcial;quiz\n",
      "\n",
      "Juan;4;3;2\n",
      "\n",
      "Esteban;3;1;1\n",
      "\n",
      "Luisa;5;4.2;1.8\n",
      "\n",
      "Cristian;4;3.75;3.5\n",
      "\n",
      "Carlos;4;2.45;0.8\n"
     ]
    }
   ],
   "source": [
    "# Abre archivo en modo de lectura \n",
    "archivo = open(\"notas2.csv\",\"r\")\n",
    "# Recorre linea a linea el archivo \n",
    "for linea in archivo: \n",
    "    print(linea)\n",
    "# Cierra archivo     \n",
    "archivo.close()"
   ]
  },
  {
   "cell_type": "code",
   "execution_count": 7,
   "metadata": {},
   "outputs": [
    {
     "name": "stdout",
     "output_type": "stream",
     "text": [
      "['Nombre', 'taller', 'parcial', 'quiz']\n",
      "['Juan', '4', '3', '2']\n",
      "['Esteban', '3', '1', '1']\n",
      "['Luisa', '5', '4.2', '1.8']\n",
      "['Cristian', '4', '3.75', '3.5']\n",
      "['Carlos', '4', '2.45', '0.8']\n",
      "\n",
      "[['Nombre', 'taller', 'parcial', 'quiz'], ['Juan', '4', '3', '2'], ['Esteban', '3', '1', '1'], ['Luisa', '5', '4.2', '1.8'], ['Cristian', '4', '3.75', '3.5'], ['Carlos', '4', '2.45', '0.8']]\n"
     ]
    }
   ],
   "source": [
    "# Declara lista \n",
    "lista1 = []\n",
    "# Abre archivo en modo de lectura \n",
    "archivo = open(\"NOTAS2.csv\", \"r\")\n",
    "# Recorre linea a linea el archivo \n",
    "for linea in archivo: \n",
    "    # Recoge cada uno de los caracteres, omitiendo los caracteres especiales\n",
    "    # Al mismo tiempo convierte la cadena de caracteres omitiento el ; en una lista \n",
    "    lista = linea.strip().split(\";\") \n",
    "    print(lista) \n",
    "    # Añadimos las lineas a una lista\n",
    "    lista1.append(lista) \n",
    "print()\n",
    "# Imprimimos la lista\n",
    "print(lista1) \n",
    "# Cierra archivo     \n",
    "archivo.close()"
   ]
  },
  {
   "cell_type": "markdown",
   "metadata": {},
   "source": [
    "<h1> 3 EJEMPLO </h1>"
   ]
  },
  {
   "cell_type": "code",
   "execution_count": 8,
   "metadata": {},
   "outputs": [
    {
     "name": "stdout",
     "output_type": "stream",
     "text": [
      "lista 1 -->\n",
      " [['Juan', '4', '3', '2'], ['Esteban', '3', '1', '1'], ['Luisa', '5', '4.2', '1.8'], ['Cristian', '4', '3.75', '3.5'], ['Carlos', '4', '2.45', '0.8']]\n"
     ]
    }
   ],
   "source": [
    "# En la posición cero se encuentran los siguientes datos \n",
    "# ['Nombre', 'taller', 'parcial', 'quiz'], los cuales serán eliminados \n",
    "del lista1[0] \n",
    "print(\"lista 1 -->\\n\", lista1)"
   ]
  },
  {
   "cell_type": "code",
   "execution_count": 9,
   "metadata": {},
   "outputs": [
    {
     "name": "stdout",
     "output_type": "stream",
     "text": [
      "\n",
      "['Juan', 'Esteban', 'Luisa', 'Cristian', 'Carlos']\n"
     ]
    }
   ],
   "source": [
    "# Declara lista \n",
    "nombres = [] \n",
    "# Recorremos las filas y columnas\n",
    "for i in range(len(lista1)): \n",
    "    for j in range(len(lista1[i])): \n",
    "        # Se obtiene una lista de los nombes \n",
    "        elementos = lista1[i][0] \n",
    "    # Añadimos los elementos recogidos en la lista nombres\n",
    "    nombres.append(elementos) \n",
    "print()\n",
    "print(nombres)"
   ]
  },
  {
   "cell_type": "code",
   "execution_count": 10,
   "metadata": {},
   "outputs": [
    {
     "name": "stdout",
     "output_type": "stream",
     "text": [
      "\n",
      "[['4', '3', '2'], ['3', '1', '1'], ['5', '4.2', '1.8'], ['4', '3.75', '3.5'], ['4', '2.45', '0.8']]\n"
     ]
    }
   ],
   "source": [
    "# Declara lista \n",
    "notas = [] \n",
    "# Recorremos el rango de datos\n",
    "for i in range(len(lista1)): \n",
    "    # Agregamos el rango de elementos que deseamos obtener\n",
    "    notas.append(lista1[i][1:])\n",
    "print()\n",
    "#Se obtiene una lista de las notas \n",
    "print(notas)"
   ]
  },
  {
   "cell_type": "code",
   "execution_count": 11,
   "metadata": {},
   "outputs": [
    {
     "name": "stdout",
     "output_type": "stream",
     "text": [
      "[['4', '3', '2'], ['3', '1', '1'], ['5', '4.2', '1.8'], ['4', '3.75', '3.5'], ['4', '2.45', '0.8']]\n",
      "\n",
      "[9.0, 5.0, 11.0, 11.25, 7.25]\n"
     ]
    }
   ],
   "source": [
    "# Declara lista \n",
    "lista3 = [] \n",
    "print(notas) \n",
    "# Recorremos el rango de datos\n",
    "for i in range(len(notas)): \n",
    "    # Reiniciamos el contador\n",
    "    acum = 0 \n",
    "    for j in range(len(notas[i])): \n",
    "        #Se suman las notas de cada estudiante \n",
    "        acum = acum + float(notas[i][j]) \n",
    "    # Añadimos las notas calculadas en la lista\n",
    "    lista3.append(acum) \n",
    "print()\n",
    "print(lista3)"
   ]
  },
  {
   "cell_type": "code",
   "execution_count": 12,
   "metadata": {},
   "outputs": [
    {
     "name": "stdout",
     "output_type": "stream",
     "text": [
      "promedios =  [3.0, 1.67, 3.67, 3.75, 2.42]\n"
     ]
    }
   ],
   "source": [
    "# Declara lista \n",
    "promedios = [] \n",
    "# Recorremos el rango de datos\n",
    "for i in range(len(lista3)): \n",
    "    # a partir de las suma de las notas se obtiene el promedio\n",
    "    promedio = round(lista3[i]/len(lista1[i][1:]), 2)# como si pusiera el numero 3 \n",
    "    # Añadimos los promedios calculados en la lista\n",
    "    promedios.append(promedio) \n",
    "print(\"promedios = \", promedios)"
   ]
  },
  {
   "cell_type": "code",
   "execution_count": 13,
   "metadata": {},
   "outputs": [
    {
     "name": "stdout",
     "output_type": "stream",
     "text": [
      "\n",
      "Diccionario =  {'Juan': 3.0, 'Esteban': 1.67, 'Luisa': 3.67, 'Cristian': 3.75, 'Carlos': 2.42}\n"
     ]
    }
   ],
   "source": [
    "#Se construye el diccionario con llave nombres y valor la nota definitiva\n",
    "dic = dict(zip(nombres,promedios)) \n",
    "print(\"\\nDiccionario = \", dic)"
   ]
  },
  {
   "cell_type": "markdown",
   "metadata": {},
   "source": [
    "<h1> 4 ACTIVIDAD </h1>"
   ]
  },
  {
   "cell_type": "code",
   "execution_count": 14,
   "metadata": {},
   "outputs": [],
   "source": [
    "# Obtener dos archivos uno para los aprobados y otro para los reprobados, cuyo contenido \n",
    "# Se espera que sea así:\n",
    "# APROBADOS \n",
    "# nombre       nota \n",
    "# carlos        4.5 \n",
    "# Juan          3.0\n",
    "# REPROBADOS \n",
    "# nombre       nota \n",
    "# Esteban       1.6 \n",
    "# Luisa         2.6 \n",
    "# Sandra        2.0"
   ]
  },
  {
   "cell_type": "code",
   "execution_count": 15,
   "metadata": {},
   "outputs": [],
   "source": [
    "aprobado = open(\"aprobado.txt\", \"w\")\n",
    "aprobado.write(\"Aprobados\\n\" + \"nombre\" + \"\\t\\t\\t\" + \"nota\\n\")\n",
    "\n",
    "aprobado = open(\"aprobado.txt\", \"a\")\n",
    "for clave, valor in dic.items():\n",
    "    if valor >= 3.0:\n",
    "        aprobado.write(clave + \"\\t\\t\\t\" + str(valor) + \"\\n\")\n",
    "aprobado.close()\n",
    "\n",
    "reprobado = open(\"reprobado.txt\", \"w\")\n",
    "reprobado.write(\"Reprobados\\n\" + \"nombre\" + \"\\t\\t\\t\" + \"nota\\n\")\n",
    "\n",
    "reprobado = open(\"reprobado.txt\", \"a\")\n",
    "for clave, valor in dic.items():\n",
    "    if valor < 3.0:\n",
    "        reprobado.write(clave + \"\\t\\t\\t\" + str(valor) + \"\\n\")\n",
    "reprobado.close()"
   ]
  },
  {
   "cell_type": "code",
   "execution_count": null,
   "metadata": {},
   "outputs": [],
   "source": []
  }
 ],
 "metadata": {
  "kernelspec": {
   "display_name": "Python 3",
   "language": "python",
   "name": "python3"
  },
  "language_info": {
   "codemirror_mode": {
    "name": "ipython",
    "version": 3
   },
   "file_extension": ".py",
   "mimetype": "text/x-python",
   "name": "python",
   "nbconvert_exporter": "python",
   "pygments_lexer": "ipython3",
   "version": "3.7.3"
  }
 },
 "nbformat": 4,
 "nbformat_minor": 2
}

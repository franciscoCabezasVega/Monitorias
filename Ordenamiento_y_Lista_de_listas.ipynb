{
 "cells": [
  {
   "cell_type": "markdown",
   "metadata": {},
   "source": [
    "## 3. Ordenamiento\n",
    "ver animación ---> http://interactivepython.org/runestone/static/pythoned/SortSearch/ElOrdenamientoBurbuja.html\n"
   ]
  },
  {
   "cell_type": "code",
   "execution_count": 9,
   "metadata": {},
   "outputs": [
    {
     "name": "stdout",
     "output_type": "stream",
     "text": [
      "Cantidad de numeros a ingresar: 10\n",
      "\n",
      "La lista ingresada de forma aleatoria es: \n",
      "[93, 5, 33, 4, 18, 16, 71, 39, 83, 58]\n",
      "\n",
      "La lista tiene un tamaño de 10 elementos\n",
      "\n",
      "Lista ordenada de forma Ascendente: \n",
      "[4, 5, 16, 18, 33, 39, 58, 71, 83, 93]\n",
      "\n",
      "Lista ordenada de forma Descendente: \n",
      "[93, 83, 71, 58, 39, 33, 18, 16, 5, 4]\n",
      "\n"
     ]
    }
   ],
   "source": [
    "import random \n",
    "\n",
    "#6 Ordenamiento ascendente\n",
    "\n",
    "def burbujaAscendente (l):\n",
    "\n",
    "        #comparación de cada elemento de la lista con el siguiente\n",
    "    for i in range(len(l)-1):\n",
    "        #print(l)\n",
    "        #  i   iteraciones\n",
    "        for j in range(len(l)-1):\n",
    "            if(l[j] > l[j+1]):\n",
    "                \n",
    "                #intercambio de valores\n",
    "                temp = l[j+1]\n",
    "                l[j+1] = l[j]\n",
    "                l[j] = temp;\n",
    "        #fin ciclo J\n",
    "    #fin ciclo i\n",
    "    print (l)\n",
    "    \n",
    "def burbujaDescendente (l):\n",
    "\n",
    "    #comparación de cada elemento de la lista con el siguiente\n",
    "    for i in range(len(l)-1):\n",
    "        #print(l)\n",
    "        #  i   iteraciones\n",
    "        for j in range(len(l)-1):\n",
    "            if(l[j] < l[j+1]):\n",
    "                \n",
    "                #intercambio de valores\n",
    "                temp = l[j+1]\n",
    "                l[j+1] = l[j]\n",
    "                l[j] = temp;\n",
    "        #fin ciclo J\n",
    "    #fin ciclo i\n",
    "    print (l)\n",
    "    \n",
    "def ordenar():\n",
    "    #Pedir la cantidad de elementos de la lista\n",
    "    cn=int(input(\"Cantidad de numeros a ingresar: \"))\n",
    "    print(\"\")\n",
    "\n",
    "    lista = []  \n",
    "\n",
    "    #Ingresando datos aleatorios\n",
    "    for i in range(cn):\n",
    "        x = random.randint(0, 100)\n",
    "        lista.append(x)\n",
    "    \n",
    "    print(\"La lista ingresada de forma aleatoria es: \")    \n",
    "    print(lista)\n",
    "    print(\"\")\n",
    "\n",
    "    tam = len(lista)\n",
    "    \n",
    "    if tam > 1:\n",
    "        print(f\"La lista tiene un tamaño de {tam} elementos\")\n",
    "    elif tam == 1:\n",
    "        print(\"La lista tiene un solo elemento\")\n",
    "    else:\n",
    "        print(\"La lista no tiene elementos\")\n",
    "        \n",
    "    print(\"\")\n",
    "\n",
    "    # llamar a la función para ordenar\n",
    "    print(\"Lista ordenada de forma Ascendente: \")  \n",
    "    burbujaAscendente(lista)\n",
    "    print(\"\")\n",
    "    \n",
    "    print(\"Lista ordenada de forma Descendente: \")  \n",
    "    burbujaDescendente(lista)\n",
    "    print(\"\")\n",
    "    \n",
    "ordenar()\n"
   ]
  },
  {
   "cell_type": "markdown",
   "metadata": {
    "collapsed": true
   },
   "source": [
    "## 6. Mayor y , menor con listas de listas"
   ]
  },
  {
   "cell_type": "code",
   "execution_count": null,
   "metadata": {},
   "outputs": [],
   "source": [
    "#Obtener el mayor elemento de a y el menor elemento de b y sus respectivas posiciones\n",
    "\n",
    "a =[   [ 0.18626021,  0.34556073,  0.39676747],\n",
    "       [ 0.53881673,  0.41919451,  0.6852195 ]]\n",
    "\n",
    "mayor = a[0][0]\n",
    "posfila = 0\n",
    "poscol = 0\n",
    "\n",
    "for i in range(len(a)):\n",
    "    for j in range(len(a[i])):\n",
    "        print(i,j)\n",
    "        if a[i][j] > mayor :\n",
    "            mayor = a[i][j]\n",
    "            posfila =i\n",
    "            poscol = j\n",
    "    #fin ciclo j\n",
    "#fin ciclo i\n",
    "print(\"el mayor es \",mayor, \"en la fila\",posfila+1,\"y la columna\",poscol+1)\n"
   ]
  },
  {
   "cell_type": "markdown",
   "metadata": {},
   "source": [
    "# Obtener el mayor elemento de b y el menor elemento de b y sus respectivas posiciones\n"
   ]
  },
  {
   "cell_type": "code",
   "execution_count": null,
   "metadata": {},
   "outputs": [],
   "source": [
    "b = ([ [ 40,  1,  3,  6],\n",
    "       [ 4,  59, 15, 22],\n",
    "       [ 8, 17, 27, 38]])\n"
   ]
  },
  {
   "cell_type": "code",
   "execution_count": null,
   "metadata": {},
   "outputs": [],
   "source": [
    "# Resolver aquí\n"
   ]
  },
  {
   "cell_type": "markdown",
   "metadata": {},
   "source": [
    "# Encontrar la moda y desviación estandar de un conjunto de datos\n",
    "\n"
   ]
  },
  {
   "cell_type": "code",
   "execution_count": null,
   "metadata": {},
   "outputs": [],
   "source": [
    "#Librería para generar nímeros enteros aleatorios\n",
    "from random import randint\n",
    "\n",
    "#Pedir la cantidad de elementos de la lista\n",
    "#Trabaje con 50 datos correspondientes a el peso de cn personas\n",
    "cn=int(input(\"Cantidad de personas: \"))\n",
    "\n",
    "#Declarar la lista como entera (float,str )\n",
    "pesos=[int for x in range (cn)]  # lista=[0 for x in range (cn)]\n",
    "\n",
    "for x in range (cn):\n",
    "    pesos[x] = randint(50,90)\n",
    "print(pesos)"
   ]
  },
  {
   "cell_type": "code",
   "execution_count": null,
   "metadata": {},
   "outputs": [],
   "source": [
    "# la moda es el elemento que más se repite\n",
    "burbujaAscendente(pesos)\n"
   ]
  },
  {
   "cell_type": "code",
   "execution_count": null,
   "metadata": {},
   "outputs": [],
   "source": [
    "#Desviación stándar"
   ]
  }
 ],
 "metadata": {
  "kernelspec": {
   "display_name": "Python 3",
   "language": "python",
   "name": "python3"
  },
  "language_info": {
   "codemirror_mode": {
    "name": "ipython",
    "version": 3
   },
   "file_extension": ".py",
   "mimetype": "text/x-python",
   "name": "python",
   "nbconvert_exporter": "python",
   "pygments_lexer": "ipython3",
   "version": "3.7.1"
  }
 },
 "nbformat": 4,
 "nbformat_minor": 2
}

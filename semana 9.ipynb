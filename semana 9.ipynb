{
 "cells": [
  {
   "cell_type": "code",
   "execution_count": null,
   "metadata": {},
   "outputs": [],
   "source": [
    "def rectangulos():\n",
    "    \n",
    "    n = int(input(\"Ingrese la cantidad de rectangulos: \"))\n",
    "    print(\"\")\n",
    "    \n",
    "    lista1 = []\n",
    "    lista2 = []\n",
    "    lista3 = []\n",
    "    \n",
    "    total = 0\n",
    "    promedio = 0\n",
    "    \n",
    "    for x in range(n):\n",
    "        \n",
    "        ancho = int(input(f\"Ingrese el ancho {x+1}: \"))\n",
    "        lista1.append(ancho)\n",
    "\n",
    "        largo = int(input(f\"Ingrese el largo {x+1}: \"))\n",
    "        lista2.append(largo)\n",
    "        print(\"\")\n",
    "        \n",
    "    for i in range(n):\n",
    "        lista3.append(lista1[i] + lista2[i])\n",
    "        total += lista1[i] + lista2[i]\n",
    "        \n",
    "    promedio = total/n\n",
    "    \n",
    "    print(\"Ancho: \", lista1)\n",
    "    \n",
    "    print(\"Largo: \", lista2)\n",
    "    \n",
    "    print(\"Suma: \", lista3)\n",
    "    \n",
    "    print(\"Total: \", total)\n",
    "    \n",
    "    print(\"Promedio: \", promedio)\n",
    "\n",
    "rectangulos()"
   ]
  },
  {
   "cell_type": "code",
   "execution_count": 83,
   "metadata": {},
   "outputs": [
    {
     "name": "stdout",
     "output_type": "stream",
     "text": [
      "Los numeros que no se repiten son:  [3, 4, 5]\n",
      "Los numeros que se repiten son:  [1, 2]\n"
     ]
    }
   ],
   "source": [
    "#from random import randint\n",
    "\n",
    "def repeticiones():\n",
    "    \n",
    "    #n = int(input(\"cantidad de numeros a ingresar: \"))\n",
    "       \n",
    "    lista = [1,2,3,4,5,1,1,1,1,2,1,2]\n",
    "    \"\"\"\n",
    "    for x in range(n):\n",
    "        x = randint(0,10)\n",
    "        lista.append(x)\n",
    "        \n",
    "    print(lista)\n",
    "    \"\"\"\n",
    "    unico = []\n",
    "    repetido = []\n",
    "    \n",
    "    for y in lista:\n",
    "        \n",
    "        if y not in unico and y not in repetido:\n",
    "            unico.append(y)\n",
    "        \n",
    "        elif y not in repetido and y in unico:         \n",
    "            repetido.append(y)\n",
    "            unico.remove(y)\n",
    "      \n",
    "        else:\n",
    "            pass\n",
    "          \n",
    "    print(\"Los numeros que no se repiten son: \", unico)\n",
    "    \n",
    "    if repetido == []:\n",
    "        print(\"No hay numeros repetidos\")\n",
    "    else:\n",
    "        print(\"Los numeros que se repiten son: \", repetido)\n",
    "    \n",
    "repeticiones()    "
   ]
  },
  {
   "cell_type": "code",
   "execution_count": 98,
   "metadata": {},
   "outputs": [
    {
     "name": "stdout",
     "output_type": "stream",
     "text": [
      "El numero mayor 4 se repite 5 veces\n"
     ]
    }
   ],
   "source": [
    "#from random import randint\n",
    "\n",
    "def repeticiones():\n",
    "    \n",
    "    #n = int(input(\"cantidad de numeros a ingresar: \"))\n",
    "       \n",
    "    lista = [4,4,1,2,3,4,4,4]\n",
    "    \"\"\"\n",
    "    for x in range(n):\n",
    "        x = randint(0,10)\n",
    "        lista.append(x)\n",
    "        \n",
    "    print(lista)\n",
    "    \"\"\"\n",
    "    unico = []\n",
    "    repetido = []\n",
    "    \n",
    "    for y in lista:\n",
    "        \n",
    "        if y not in unico and y not in repetido:\n",
    "            unico.append(y)\n",
    "        \n",
    "        elif y not in repetido and y in unico:         \n",
    "            repetido.append(y)\n",
    "            unico.remove(y)\n",
    "      \n",
    "        else:\n",
    "            pass\n",
    "        \n",
    "    cont = 0\n",
    "    \n",
    "    mayor = max(lista) #atajo\n",
    "    \n",
    "    if repetido == []:\n",
    "        print(\"No hay numeros repetidos\")\n",
    "    \n",
    "    else: \n",
    "        #cantidad = lista.count(max(lista)) trampa :(\n",
    "        \n",
    "        for z in lista:          \n",
    "            \n",
    "            if mayor == z:\n",
    "                cont += 1\n",
    "        \n",
    "    print(f\"El numero mayor {mayor} se repite {cont} veces\")\n",
    "    \n",
    "repeticiones()     "
   ]
  },
  {
   "cell_type": "code",
   "execution_count": null,
   "metadata": {},
   "outputs": [],
   "source": []
  }
 ],
 "metadata": {
  "kernelspec": {
   "display_name": "Python 3",
   "language": "python",
   "name": "python3"
  },
  "language_info": {
   "codemirror_mode": {
    "name": "ipython",
    "version": 3
   },
   "file_extension": ".py",
   "mimetype": "text/x-python",
   "name": "python",
   "nbconvert_exporter": "python",
   "pygments_lexer": "ipython3",
   "version": "3.7.1"
  }
 },
 "nbformat": 4,
 "nbformat_minor": 2
}

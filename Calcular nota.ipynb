{
 "cells": [
  {
   "cell_type": "code",
   "execution_count": null,
   "metadata": {},
   "outputs": [],
   "source": [
    "def calcularNota():\n",
    "    \n",
    "    i = 0 # Variable de control\n",
    "    n = 5 # numero de iteraciones\n",
    "    \n",
    "    resultado = 0\n",
    "    \n",
    "    suma = 0\n",
    "    \n",
    "    sumaCredito = 0\n",
    "    \n",
    "        # Declarando el ciclo\n",
    "    while i<n: # Tambien se puede hacer con For\n",
    "        # Pedir datos\n",
    "        nrc = input(f\"Ingrese el NRC nº {i+1}: \")\n",
    "        asignatura = input(f\"Ingrese el nombre de la asignatura nº {i+1}: \")\n",
    "        calificacion = float(input(f\"Ingrese la calificación nº {i+1}: \"))  \n",
    "        creditos = int(input(f\"Ingrese la cantidad de creditos del nº {i+1}: \"))\n",
    "        \n",
    "        print(\"\")\n",
    "        \n",
    "        resultado = calificacion * creditos\n",
    "        \n",
    "        suma += resultado\n",
    "        \n",
    "        sumaCredito += creditos\n",
    "           \n",
    "        i += 1\n",
    "    \n",
    "    promedio = (suma)/sumaCredito\n",
    "    \n",
    "    print(\"Su promedio es de: \", promedio)\n",
    "    \n",
    "calcularNota()"
   ]
  },
  {
   "cell_type": "code",
   "execution_count": null,
   "metadata": {},
   "outputs": [],
   "source": []
  }
 ],
 "metadata": {
  "kernelspec": {
   "display_name": "Python 3",
   "language": "python",
   "name": "python3"
  },
  "language_info": {
   "codemirror_mode": {
    "name": "ipython",
    "version": 3
   },
   "file_extension": ".py",
   "mimetype": "text/x-python",
   "name": "python",
   "nbconvert_exporter": "python",
   "pygments_lexer": "ipython3",
   "version": "3.7.1"
  }
 },
 "nbformat": 4,
 "nbformat_minor": 2
}

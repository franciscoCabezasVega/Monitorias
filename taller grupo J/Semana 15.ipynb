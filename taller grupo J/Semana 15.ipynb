{
 "cells": [
  {
   "cell_type": "markdown",
   "metadata": {},
   "source": [
    "Semana 15 | Ejercicios con diccionarios | Archivos \n",
    "\n",
    "Recuerde documentar el programa. Valor 10% \n",
    "\n",
    "Leer los datos de un archivo llamado datos.csv, el cual contiene información de cierto número de estudiantes, para cada estudiante se tiene: Código, nombre y apellido, y cuatro(4) notas correspondientes a cada corte, la primera nota equivale a 25%, la segunda nota 25%, la tercera nota 20% y la cuarta nota 30%.\n",
    "\n",
    "Responda las siguientes preguntas en base a la información anterior: \n",
    "\n",
    "1. (Valor 20%) Muestre el código, nombre y apellido del o los estudiantes que tienen la nota mayor del grupo. \n",
    "2. (Valor 20%) Muestre solo el apellido del estudiante que tiene la nota menor del grupo. \n",
    "3. (Valor 20%) Muestre cuantos estudiantes de cada categoría hay de acuerdo a la siguiente información: a. De 0.0 a 2.9 (Deficiente) b. De 3.0 a 3.4 (Regular) c. De 3.5 a 3.9 (Aceptable) d. De 4.0 a 4.4 (Bueno) e. De 4.5 a 5.0 (Excelente) \n",
    "4. (Valor 20%) Ordene de Menor a mayor las notas finales y muestre solo el apellido y nota de los estudiantes (Use el algoritmo de burbuja) 5. (Valor 10%) Realice un menú donde se indique al usuario que opción desea realizar. \n",
    " \n",
    "Los datos deben ser cargados en un diccionario organizados de la siguiente forma: \n",
    "\n",
    "La clave será el código, nombre y apellido del estudiante y el valor serán las 4 notas"
   ]
  },
  {
   "cell_type": "code",
   "execution_count": 1,
   "metadata": {
    "scrolled": true
   },
   "outputs": [
    {
     "name": "stdout",
     "output_type": "stream",
     "text": [
      "T01,Mitch,Carson,4.4,4.1,0.8,2.6\n",
      "\n",
      "T02,Maria,Hill,2.2,2.1,1.7,2.4\n",
      "\n",
      "T03,Chris,McCarthy,4.9,0.1,3.4,2.6\n",
      "\n",
      "T04,Pajaro,Burlon,4.4,3.6,3.2,1.2\n",
      "\n",
      "T05,Joseph,Kent,4.8,3.6,1.4,1.4\n",
      "\n",
      "T06,Linda,Lee,4.4,2.2,0.8,2.6\n",
      "\n",
      "T07,James,Barth,1.4,3.6,2.4,3.7\n",
      "\n",
      "T08,Bruce,Wayne,1.4,3.3,1.4,4.3\n",
      "\n",
      "T09,Betty,Kane,1.9,4.4,2.5,1.8\n",
      "\n",
      "T10,Dick,Grayson,2.2,1.0,3.9,0.9\n",
      "\n",
      "T11,Jack,Napier,0.7,2.5,0.8,2.6\n",
      "\n",
      "T12,Jay,Garrick,2.3,3.6,2.0,1.2\n",
      "\n",
      "T13,Diana,Prince,1.5,2.9,3.1,1.4\n",
      "\n",
      "T14,Barbara,Ann,0.7,1.8,3.6,4.1\n",
      "\n",
      "T15,Simon,Baz,4.7,3.6,1.1,2.6\n",
      "\n",
      "T16,Walter,Joseph,4.2,1.6,4.2,2.6\n",
      "\n",
      "T17,Carter,Hall,0.1,3.6,3.6,5.0\n",
      "\n",
      "T18,Kent,Nelson,4.1,1.8,3.4,2.6\n",
      "\n",
      "T19,Erik ,Lehnsh,3.0,4.2,5.0,4.7\n",
      "\n",
      "T20,Jean,Grey,1.8,2.2,2.1,2.2\n",
      "\n",
      "T21,Black,Adam,0.3,2.9,3.9,2.6\n",
      "\n",
      "T22,Robert,Louis,4.1,0.3,2.4,4.2\n",
      "\n",
      "T23,Henry,McCoy,3.7,0.0,3.2,3.9\n",
      "\n",
      "T24,James,Howlett,3.1,1.1,4.5,2.6\n",
      "\n",
      "T25,Orolo,Munroe,4.3,1.2,4.7,4.8\n",
      "\n",
      "T26,Kurt,Wagner,1.5,4.0,3.4,4.1\n",
      "\n",
      "T27,Sean,Cassidy,3.5,3.0,1.6,2.1\n",
      "\n",
      "T28,Shiro,Yoshida,0.1,4.2,3.0,2.6\n",
      "\n",
      "T29,Armando,Munoz,2.3,2.7,3.5,0.7\n",
      "\n",
      "T30,Anna,Marie,1.0,2.8,3.0,0.5\n",
      "\n",
      "T31,Green  ,Arrow,1.7,1.5,4.5,2.6\n",
      "\n",
      "T32,Jon,Snow,4.4,2.9,2.6,1.4\n",
      "\n",
      "T33,Juan,Perez,2.9,4.5,1.3,1.6\n",
      "\n",
      "T34,Hernan,Rios,4.4,3.6,4.9,2.1\n",
      "\n",
      "T35,Luis,Acosta,1.3,2.3,0.9,3.5\n",
      "\n",
      "T36,Khal,Drogo,3.0,3.5,3.6,3.7\n",
      "\n",
      "T37,Richard,Perez,0.1,4.9,3.9,4.8\n",
      "\n",
      "T38,Jorge,Uribe,1.9,1.6,3.4,2.2\n",
      "\n",
      "T39,Rafel,Uribe,2.5,1.4,1.0,5.0\n",
      "\n",
      "T40,Juan,Castro,2.9,1.0,3.4,4.9\n",
      "\n",
      "T41,Camilo,Ruiz,3.2,1.1,0.1,4.7\n",
      "\n",
      "T42,Luis,Leon,2.8,3.6,1.7,2.6\n",
      "\n",
      "T43,Lucas,Lopez,3.7,2.7,3.4,1.7\n",
      "\n",
      "T44,Arya,Stark,4.4,2.8,4.5,0.4\n",
      "\n",
      "T45,Ana,Grey,3.5,2.0,3.4,1.0\n",
      "\n",
      "T46,Eric,Trump,4.7,0.2,3.4,4.9\n",
      "\n",
      "T47,Donald,Lopez,4.4,2.8,3.2,2.6\n",
      "\n",
      "T48,Jesus,Grau,0.0,2.3,3.4,0.5\n",
      "\n",
      "T49,Timmy,Tyler,2.3,4.8,3.6,0.1\n",
      "\n",
      "T50,Rose,Leslie,1.1,3.2,1.9,4.3\n"
     ]
    }
   ],
   "source": [
    "# Abre archivo en modo de lectura \n",
    "archivo = open(\"datos.csv\",\"r\")\n",
    "# Recorre linea a linea el archivo \n",
    "for linea in archivo: \n",
    "    print(linea)\n",
    "# Cierra archivo     \n",
    "archivo.close()"
   ]
  },
  {
   "cell_type": "code",
   "execution_count": 2,
   "metadata": {
    "scrolled": true
   },
   "outputs": [
    {
     "name": "stdout",
     "output_type": "stream",
     "text": [
      "['T01', 'Mitch', 'Carson', '4.4', '4.1', '0.8', '2.6']\n",
      "['T02', 'Maria', 'Hill', '2.2', '2.1', '1.7', '2.4']\n",
      "['T03', 'Chris', 'McCarthy', '4.9', '0.1', '3.4', '2.6']\n",
      "['T04', 'Pajaro', 'Burlon', '4.4', '3.6', '3.2', '1.2']\n",
      "['T05', 'Joseph', 'Kent', '4.8', '3.6', '1.4', '1.4']\n",
      "['T06', 'Linda', 'Lee', '4.4', '2.2', '0.8', '2.6']\n",
      "['T07', 'James', 'Barth', '1.4', '3.6', '2.4', '3.7']\n",
      "['T08', 'Bruce', 'Wayne', '1.4', '3.3', '1.4', '4.3']\n",
      "['T09', 'Betty', 'Kane', '1.9', '4.4', '2.5', '1.8']\n",
      "['T10', 'Dick', 'Grayson', '2.2', '1.0', '3.9', '0.9']\n",
      "['T11', 'Jack', 'Napier', '0.7', '2.5', '0.8', '2.6']\n",
      "['T12', 'Jay', 'Garrick', '2.3', '3.6', '2.0', '1.2']\n",
      "['T13', 'Diana', 'Prince', '1.5', '2.9', '3.1', '1.4']\n",
      "['T14', 'Barbara', 'Ann', '0.7', '1.8', '3.6', '4.1']\n",
      "['T15', 'Simon', 'Baz', '4.7', '3.6', '1.1', '2.6']\n",
      "['T16', 'Walter', 'Joseph', '4.2', '1.6', '4.2', '2.6']\n",
      "['T17', 'Carter', 'Hall', '0.1', '3.6', '3.6', '5.0']\n",
      "['T18', 'Kent', 'Nelson', '4.1', '1.8', '3.4', '2.6']\n",
      "['T19', 'Erik ', 'Lehnsh', '3.0', '4.2', '5.0', '4.7']\n",
      "['T20', 'Jean', 'Grey', '1.8', '2.2', '2.1', '2.2']\n",
      "['T21', 'Black', 'Adam', '0.3', '2.9', '3.9', '2.6']\n",
      "['T22', 'Robert', 'Louis', '4.1', '0.3', '2.4', '4.2']\n",
      "['T23', 'Henry', 'McCoy', '3.7', '0.0', '3.2', '3.9']\n",
      "['T24', 'James', 'Howlett', '3.1', '1.1', '4.5', '2.6']\n",
      "['T25', 'Orolo', 'Munroe', '4.3', '1.2', '4.7', '4.8']\n",
      "['T26', 'Kurt', 'Wagner', '1.5', '4.0', '3.4', '4.1']\n",
      "['T27', 'Sean', 'Cassidy', '3.5', '3.0', '1.6', '2.1']\n",
      "['T28', 'Shiro', 'Yoshida', '0.1', '4.2', '3.0', '2.6']\n",
      "['T29', 'Armando', 'Munoz', '2.3', '2.7', '3.5', '0.7']\n",
      "['T30', 'Anna', 'Marie', '1.0', '2.8', '3.0', '0.5']\n",
      "['T31', 'Green  ', 'Arrow', '1.7', '1.5', '4.5', '2.6']\n",
      "['T32', 'Jon', 'Snow', '4.4', '2.9', '2.6', '1.4']\n",
      "['T33', 'Juan', 'Perez', '2.9', '4.5', '1.3', '1.6']\n",
      "['T34', 'Hernan', 'Rios', '4.4', '3.6', '4.9', '2.1']\n",
      "['T35', 'Luis', 'Acosta', '1.3', '2.3', '0.9', '3.5']\n",
      "['T36', 'Khal', 'Drogo', '3.0', '3.5', '3.6', '3.7']\n",
      "['T37', 'Richard', 'Perez', '0.1', '4.9', '3.9', '4.8']\n",
      "['T38', 'Jorge', 'Uribe', '1.9', '1.6', '3.4', '2.2']\n",
      "['T39', 'Rafel', 'Uribe', '2.5', '1.4', '1.0', '5.0']\n",
      "['T40', 'Juan', 'Castro', '2.9', '1.0', '3.4', '4.9']\n",
      "['T41', 'Camilo', 'Ruiz', '3.2', '1.1', '0.1', '4.7']\n",
      "['T42', 'Luis', 'Leon', '2.8', '3.6', '1.7', '2.6']\n",
      "['T43', 'Lucas', 'Lopez', '3.7', '2.7', '3.4', '1.7']\n",
      "['T44', 'Arya', 'Stark', '4.4', '2.8', '4.5', '0.4']\n",
      "['T45', 'Ana', 'Grey', '3.5', '2.0', '3.4', '1.0']\n",
      "['T46', 'Eric', 'Trump', '4.7', '0.2', '3.4', '4.9']\n",
      "['T47', 'Donald', 'Lopez', '4.4', '2.8', '3.2', '2.6']\n",
      "['T48', 'Jesus', 'Grau', '0.0', '2.3', '3.4', '0.5']\n",
      "['T49', 'Timmy', 'Tyler', '2.3', '4.8', '3.6', '0.1']\n",
      "['T50', 'Rose', 'Leslie', '1.1', '3.2', '1.9', '4.3']\n"
     ]
    }
   ],
   "source": [
    "# Declara lista \n",
    "lista1 = []\n",
    "# Abre archivo en modo de lectura \n",
    "archivo = open(\"datos.csv\", \"r\")\n",
    "# Recorre linea a linea el archivo \n",
    "for linea in archivo: \n",
    "    # Recoge cada uno de los caracteres, omitiendo los caracteres especiales\n",
    "    # Al mismo tiempo convierte la cadena de caracteres omitiento el ; en una lista \n",
    "    lista = linea.strip().split(\",\") \n",
    "    print(lista) \n",
    "    # Añadimos las lineas a una lista\n",
    "    lista1.append(lista) \n",
    "# Cierra archivo     \n",
    "archivo.close()"
   ]
  },
  {
   "cell_type": "code",
   "execution_count": 3,
   "metadata": {},
   "outputs": [
    {
     "name": "stdout",
     "output_type": "stream",
     "text": [
      "\n",
      "['T01', 'T02', 'T03', 'T04', 'T05', 'T06', 'T07', 'T08', 'T09', 'T10', 'T11', 'T12', 'T13', 'T14', 'T15', 'T16', 'T17', 'T18', 'T19', 'T20', 'T21', 'T22', 'T23', 'T24', 'T25', 'T26', 'T27', 'T28', 'T29', 'T30', 'T31', 'T32', 'T33', 'T34', 'T35', 'T36', 'T37', 'T38', 'T39', 'T40', 'T41', 'T42', 'T43', 'T44', 'T45', 'T46', 'T47', 'T48', 'T49', 'T50']\n"
     ]
    }
   ],
   "source": [
    "# Declara lista \n",
    "codigo = [] \n",
    "# Recorremos las filas y columnas\n",
    "for i in range(len(lista1)): \n",
    "    for j in range(len(lista1[i])): \n",
    "        # Se obtiene una lista de los nombres \n",
    "        elementos = lista1[i][0] \n",
    "    # Añadimos los elementos recogidos en la lista nombres\n",
    "    codigo.append(elementos) \n",
    "print()\n",
    "print(codigo)"
   ]
  },
  {
   "cell_type": "code",
   "execution_count": 4,
   "metadata": {
    "scrolled": true
   },
   "outputs": [
    {
     "name": "stdout",
     "output_type": "stream",
     "text": [
      "\n",
      "['Mitch', 'Maria', 'Chris', 'Pajaro', 'Joseph', 'Linda', 'James', 'Bruce', 'Betty', 'Dick', 'Jack', 'Jay', 'Diana', 'Barbara', 'Simon', 'Walter', 'Carter', 'Kent', 'Erik ', 'Jean', 'Black', 'Robert', 'Henry', 'James', 'Orolo', 'Kurt', 'Sean', 'Shiro', 'Armando', 'Anna', 'Green  ', 'Jon', 'Juan', 'Hernan', 'Luis', 'Khal', 'Richard', 'Jorge', 'Rafel', 'Juan', 'Camilo', 'Luis', 'Lucas', 'Arya', 'Ana', 'Eric', 'Donald', 'Jesus', 'Timmy', 'Rose']\n"
     ]
    }
   ],
   "source": [
    "# Declara lista \n",
    "nombre = [] \n",
    "# Recorremos las filas y columnas\n",
    "for i in range(len(lista1)): \n",
    "    for j in range(len(lista1[i])): \n",
    "        # Se obtiene una lista de los nombres \n",
    "        elementos = lista1[i][1] \n",
    "    # Añadimos los elementos recogidos en la lista nombres\n",
    "    nombre.append(elementos) \n",
    "print()\n",
    "print(nombre)"
   ]
  },
  {
   "cell_type": "code",
   "execution_count": 5,
   "metadata": {},
   "outputs": [
    {
     "name": "stdout",
     "output_type": "stream",
     "text": [
      "\n",
      "['Carson', 'Hill', 'McCarthy', 'Burlon', 'Kent', 'Lee', 'Barth', 'Wayne', 'Kane', 'Grayson', 'Napier', 'Garrick', 'Prince', 'Ann', 'Baz', 'Joseph', 'Hall', 'Nelson', 'Lehnsh', 'Grey', 'Adam', 'Louis', 'McCoy', 'Howlett', 'Munroe', 'Wagner', 'Cassidy', 'Yoshida', 'Munoz', 'Marie', 'Arrow', 'Snow', 'Perez', 'Rios', 'Acosta', 'Drogo', 'Perez', 'Uribe', 'Uribe', 'Castro', 'Ruiz', 'Leon', 'Lopez', 'Stark', 'Grey', 'Trump', 'Lopez', 'Grau', 'Tyler', 'Leslie']\n"
     ]
    }
   ],
   "source": [
    "# Declara lista \n",
    "apellido = [] \n",
    "# Recorremos las filas y columnas\n",
    "for i in range(len(lista1)): \n",
    "    for j in range(len(lista1[i])): \n",
    "        # Se obtiene una lista de los nombres \n",
    "        elementos = lista1[i][2] \n",
    "    # Añadimos los elementos recogidos en la lista nombres\n",
    "    apellido.append(elementos) \n",
    "print()\n",
    "print(apellido)"
   ]
  },
  {
   "cell_type": "code",
   "execution_count": 6,
   "metadata": {},
   "outputs": [
    {
     "name": "stdout",
     "output_type": "stream",
     "text": [
      "\n",
      "[['4.4', '4.1', '0.8', '2.6'], ['2.2', '2.1', '1.7', '2.4'], ['4.9', '0.1', '3.4', '2.6'], ['4.4', '3.6', '3.2', '1.2'], ['4.8', '3.6', '1.4', '1.4'], ['4.4', '2.2', '0.8', '2.6'], ['1.4', '3.6', '2.4', '3.7'], ['1.4', '3.3', '1.4', '4.3'], ['1.9', '4.4', '2.5', '1.8'], ['2.2', '1.0', '3.9', '0.9'], ['0.7', '2.5', '0.8', '2.6'], ['2.3', '3.6', '2.0', '1.2'], ['1.5', '2.9', '3.1', '1.4'], ['0.7', '1.8', '3.6', '4.1'], ['4.7', '3.6', '1.1', '2.6'], ['4.2', '1.6', '4.2', '2.6'], ['0.1', '3.6', '3.6', '5.0'], ['4.1', '1.8', '3.4', '2.6'], ['3.0', '4.2', '5.0', '4.7'], ['1.8', '2.2', '2.1', '2.2'], ['0.3', '2.9', '3.9', '2.6'], ['4.1', '0.3', '2.4', '4.2'], ['3.7', '0.0', '3.2', '3.9'], ['3.1', '1.1', '4.5', '2.6'], ['4.3', '1.2', '4.7', '4.8'], ['1.5', '4.0', '3.4', '4.1'], ['3.5', '3.0', '1.6', '2.1'], ['0.1', '4.2', '3.0', '2.6'], ['2.3', '2.7', '3.5', '0.7'], ['1.0', '2.8', '3.0', '0.5'], ['1.7', '1.5', '4.5', '2.6'], ['4.4', '2.9', '2.6', '1.4'], ['2.9', '4.5', '1.3', '1.6'], ['4.4', '3.6', '4.9', '2.1'], ['1.3', '2.3', '0.9', '3.5'], ['3.0', '3.5', '3.6', '3.7'], ['0.1', '4.9', '3.9', '4.8'], ['1.9', '1.6', '3.4', '2.2'], ['2.5', '1.4', '1.0', '5.0'], ['2.9', '1.0', '3.4', '4.9'], ['3.2', '1.1', '0.1', '4.7'], ['2.8', '3.6', '1.7', '2.6'], ['3.7', '2.7', '3.4', '1.7'], ['4.4', '2.8', '4.5', '0.4'], ['3.5', '2.0', '3.4', '1.0'], ['4.7', '0.2', '3.4', '4.9'], ['4.4', '2.8', '3.2', '2.6'], ['0.0', '2.3', '3.4', '0.5'], ['2.3', '4.8', '3.6', '0.1'], ['1.1', '3.2', '1.9', '4.3']]\n"
     ]
    }
   ],
   "source": [
    "# Declara lista \n",
    "notas = [] \n",
    "# Recorremos las filas y columnas\n",
    "for i in range(len(lista1)): \n",
    "    for j in range(len(lista1[i])): \n",
    "        # Se obtiene una lista de los nombres \n",
    "        elementos = lista1[i][3:]\n",
    "    # Añadimos los elementos recogidos en la lista nombres\n",
    "    notas.append(elementos) \n",
    "print()\n",
    "print(notas)"
   ]
  },
  {
   "cell_type": "code",
   "execution_count": 7,
   "metadata": {
    "scrolled": true
   },
   "outputs": [
    {
     "name": "stdout",
     "output_type": "stream",
     "text": [
      "T01 : ['Mitch', 'Carson', '4.4', '4.1', '0.8', '2.6']\n",
      "T02 : ['Maria', 'Hill', '2.2', '2.1', '1.7', '2.4']\n",
      "T03 : ['Chris', 'McCarthy', '4.9', '0.1', '3.4', '2.6']\n",
      "T04 : ['Pajaro', 'Burlon', '4.4', '3.6', '3.2', '1.2']\n",
      "T05 : ['Joseph', 'Kent', '4.8', '3.6', '1.4', '1.4']\n",
      "T06 : ['Linda', 'Lee', '4.4', '2.2', '0.8', '2.6']\n",
      "T07 : ['James', 'Barth', '1.4', '3.6', '2.4', '3.7']\n",
      "T08 : ['Bruce', 'Wayne', '1.4', '3.3', '1.4', '4.3']\n",
      "T09 : ['Betty', 'Kane', '1.9', '4.4', '2.5', '1.8']\n",
      "T10 : ['Dick', 'Grayson', '2.2', '1.0', '3.9', '0.9']\n",
      "T11 : ['Jack', 'Napier', '0.7', '2.5', '0.8', '2.6']\n",
      "T12 : ['Jay', 'Garrick', '2.3', '3.6', '2.0', '1.2']\n",
      "T13 : ['Diana', 'Prince', '1.5', '2.9', '3.1', '1.4']\n",
      "T14 : ['Barbara', 'Ann', '0.7', '1.8', '3.6', '4.1']\n",
      "T15 : ['Simon', 'Baz', '4.7', '3.6', '1.1', '2.6']\n",
      "T16 : ['Walter', 'Joseph', '4.2', '1.6', '4.2', '2.6']\n",
      "T17 : ['Carter', 'Hall', '0.1', '3.6', '3.6', '5.0']\n",
      "T18 : ['Kent', 'Nelson', '4.1', '1.8', '3.4', '2.6']\n",
      "T19 : ['Erik ', 'Lehnsh', '3.0', '4.2', '5.0', '4.7']\n",
      "T20 : ['Jean', 'Grey', '1.8', '2.2', '2.1', '2.2']\n",
      "T21 : ['Black', 'Adam', '0.3', '2.9', '3.9', '2.6']\n",
      "T22 : ['Robert', 'Louis', '4.1', '0.3', '2.4', '4.2']\n",
      "T23 : ['Henry', 'McCoy', '3.7', '0.0', '3.2', '3.9']\n",
      "T24 : ['James', 'Howlett', '3.1', '1.1', '4.5', '2.6']\n",
      "T25 : ['Orolo', 'Munroe', '4.3', '1.2', '4.7', '4.8']\n",
      "T26 : ['Kurt', 'Wagner', '1.5', '4.0', '3.4', '4.1']\n",
      "T27 : ['Sean', 'Cassidy', '3.5', '3.0', '1.6', '2.1']\n",
      "T28 : ['Shiro', 'Yoshida', '0.1', '4.2', '3.0', '2.6']\n",
      "T29 : ['Armando', 'Munoz', '2.3', '2.7', '3.5', '0.7']\n",
      "T30 : ['Anna', 'Marie', '1.0', '2.8', '3.0', '0.5']\n",
      "T31 : ['Green  ', 'Arrow', '1.7', '1.5', '4.5', '2.6']\n",
      "T32 : ['Jon', 'Snow', '4.4', '2.9', '2.6', '1.4']\n",
      "T33 : ['Juan', 'Perez', '2.9', '4.5', '1.3', '1.6']\n",
      "T34 : ['Hernan', 'Rios', '4.4', '3.6', '4.9', '2.1']\n",
      "T35 : ['Luis', 'Acosta', '1.3', '2.3', '0.9', '3.5']\n",
      "T36 : ['Khal', 'Drogo', '3.0', '3.5', '3.6', '3.7']\n",
      "T37 : ['Richard', 'Perez', '0.1', '4.9', '3.9', '4.8']\n",
      "T38 : ['Jorge', 'Uribe', '1.9', '1.6', '3.4', '2.2']\n",
      "T39 : ['Rafel', 'Uribe', '2.5', '1.4', '1.0', '5.0']\n",
      "T40 : ['Juan', 'Castro', '2.9', '1.0', '3.4', '4.9']\n",
      "T41 : ['Camilo', 'Ruiz', '3.2', '1.1', '0.1', '4.7']\n",
      "T42 : ['Luis', 'Leon', '2.8', '3.6', '1.7', '2.6']\n",
      "T43 : ['Lucas', 'Lopez', '3.7', '2.7', '3.4', '1.7']\n",
      "T44 : ['Arya', 'Stark', '4.4', '2.8', '4.5', '0.4']\n",
      "T45 : ['Ana', 'Grey', '3.5', '2.0', '3.4', '1.0']\n",
      "T46 : ['Eric', 'Trump', '4.7', '0.2', '3.4', '4.9']\n",
      "T47 : ['Donald', 'Lopez', '4.4', '2.8', '3.2', '2.6']\n",
      "T48 : ['Jesus', 'Grau', '0.0', '2.3', '3.4', '0.5']\n",
      "T49 : ['Timmy', 'Tyler', '2.3', '4.8', '3.6', '0.1']\n",
      "T50 : ['Rose', 'Leslie', '1.1', '3.2', '1.9', '4.3']\n"
     ]
    }
   ],
   "source": [
    "# Declara lista \n",
    "info_alumnos = [] \n",
    "# Recorremos las filas y columnas\n",
    "for i in range(len(lista1)): \n",
    "    for j in range(len(lista1[i])): \n",
    "        # Se obtiene una lista de los nombres \n",
    "        elementos = lista1[i][1:] \n",
    "    # Añadimos los elementos recogidos en la lista nombres\n",
    "    info_alumnos.append(elementos) \n",
    "\n",
    "dic = dict(zip(codigo, info_alumnos))\n",
    "\n",
    "for x in dic:\n",
    "    print(f\"{x} : {dic[x]}\")"
   ]
  },
  {
   "cell_type": "code",
   "execution_count": 8,
   "metadata": {
    "scrolled": true
   },
   "outputs": [
    {
     "name": "stdout",
     "output_type": "stream",
     "text": [
      "[[4.4, 4.1, 0.8, 2.6], [2.2, 2.1, 1.7, 2.4], [4.9, 0.1, 3.4, 2.6], [4.4, 3.6, 3.2, 1.2], [4.8, 3.6, 1.4, 1.4], [4.4, 2.2, 0.8, 2.6], [1.4, 3.6, 2.4, 3.7], [1.4, 3.3, 1.4, 4.3], [1.9, 4.4, 2.5, 1.8], [2.2, 1.0, 3.9, 0.9], [0.7, 2.5, 0.8, 2.6], [2.3, 3.6, 2.0, 1.2], [1.5, 2.9, 3.1, 1.4], [0.7, 1.8, 3.6, 4.1], [4.7, 3.6, 1.1, 2.6], [4.2, 1.6, 4.2, 2.6], [0.1, 3.6, 3.6, 5.0], [4.1, 1.8, 3.4, 2.6], [3.0, 4.2, 5.0, 4.7], [1.8, 2.2, 2.1, 2.2], [0.3, 2.9, 3.9, 2.6], [4.1, 0.3, 2.4, 4.2], [3.7, 0.0, 3.2, 3.9], [3.1, 1.1, 4.5, 2.6], [4.3, 1.2, 4.7, 4.8], [1.5, 4.0, 3.4, 4.1], [3.5, 3.0, 1.6, 2.1], [0.1, 4.2, 3.0, 2.6], [2.3, 2.7, 3.5, 0.7], [1.0, 2.8, 3.0, 0.5], [1.7, 1.5, 4.5, 2.6], [4.4, 2.9, 2.6, 1.4], [2.9, 4.5, 1.3, 1.6], [4.4, 3.6, 4.9, 2.1], [1.3, 2.3, 0.9, 3.5], [3.0, 3.5, 3.6, 3.7], [0.1, 4.9, 3.9, 4.8], [1.9, 1.6, 3.4, 2.2], [2.5, 1.4, 1.0, 5.0], [2.9, 1.0, 3.4, 4.9], [3.2, 1.1, 0.1, 4.7], [2.8, 3.6, 1.7, 2.6], [3.7, 2.7, 3.4, 1.7], [4.4, 2.8, 4.5, 0.4], [3.5, 2.0, 3.4, 1.0], [4.7, 0.2, 3.4, 4.9], [4.4, 2.8, 3.2, 2.6], [0.0, 2.3, 3.4, 0.5], [2.3, 4.8, 3.6, 0.1], [1.1, 3.2, 1.9, 4.3]]\n"
     ]
    }
   ],
   "source": [
    "convertir = []\n",
    "\n",
    "for x in notas:\n",
    "    elemento = list(map(float,x)) # convirtiendo notas a flotante\n",
    "    convertir.append(elemento)\n",
    "\n",
    "print(convertir)"
   ]
  },
  {
   "cell_type": "code",
   "execution_count": 9,
   "metadata": {},
   "outputs": [
    {
     "name": "stdout",
     "output_type": "stream",
     "text": [
      "[3.07, 2.14, 2.71, 3.0, 2.8, 2.59, 2.84, 2.74, 2.62, 1.85, 1.74, 2.23, 2.14, 2.58, 3.08, 3.07, 3.15, 2.93, 4.21, 2.08, 2.36, 2.84, 2.74, 2.73, 3.75, 3.29, 2.58, 2.46, 2.16, 1.7, 2.48, 2.77, 2.59, 3.61, 2.13, 3.46, 3.47, 2.22, 2.67, 3.12, 2.5, 2.72, 2.79, 2.82, 2.35, 3.38, 3.22, 1.4, 2.52, 2.75]\n"
     ]
    }
   ],
   "source": [
    "final = []\n",
    "\n",
    "for x in convertir:\n",
    "    resultado = (x[0]*0.25) + (x[1]*0.25) + (x[2]*0.20) + (x[3]*0.30)\n",
    "    final.append(round(resultado,2))\n",
    "    \n",
    "print(final)"
   ]
  },
  {
   "cell_type": "code",
   "execution_count": 10,
   "metadata": {
    "scrolled": true
   },
   "outputs": [
    {
     "name": "stdout",
     "output_type": "stream",
     "text": [
      "('T01', 'Mitch', 'Carson', 3.07)\n",
      "('T02', 'Maria', 'Hill', 2.14)\n",
      "('T03', 'Chris', 'McCarthy', 2.71)\n",
      "('T04', 'Pajaro', 'Burlon', 3.0)\n",
      "('T05', 'Joseph', 'Kent', 2.8)\n",
      "('T06', 'Linda', 'Lee', 2.59)\n",
      "('T07', 'James', 'Barth', 2.84)\n",
      "('T08', 'Bruce', 'Wayne', 2.74)\n",
      "('T09', 'Betty', 'Kane', 2.62)\n",
      "('T10', 'Dick', 'Grayson', 1.85)\n",
      "('T11', 'Jack', 'Napier', 1.74)\n",
      "('T12', 'Jay', 'Garrick', 2.23)\n",
      "('T13', 'Diana', 'Prince', 2.14)\n",
      "('T14', 'Barbara', 'Ann', 2.58)\n",
      "('T15', 'Simon', 'Baz', 3.08)\n",
      "('T16', 'Walter', 'Joseph', 3.07)\n",
      "('T17', 'Carter', 'Hall', 3.15)\n",
      "('T18', 'Kent', 'Nelson', 2.93)\n",
      "('T19', 'Erik ', 'Lehnsh', 4.21)\n",
      "('T20', 'Jean', 'Grey', 2.08)\n",
      "('T21', 'Black', 'Adam', 2.36)\n",
      "('T22', 'Robert', 'Louis', 2.84)\n",
      "('T23', 'Henry', 'McCoy', 2.74)\n",
      "('T24', 'James', 'Howlett', 2.73)\n",
      "('T25', 'Orolo', 'Munroe', 3.75)\n",
      "('T26', 'Kurt', 'Wagner', 3.29)\n",
      "('T27', 'Sean', 'Cassidy', 2.58)\n",
      "('T28', 'Shiro', 'Yoshida', 2.46)\n",
      "('T29', 'Armando', 'Munoz', 2.16)\n",
      "('T30', 'Anna', 'Marie', 1.7)\n",
      "('T31', 'Green  ', 'Arrow', 2.48)\n",
      "('T32', 'Jon', 'Snow', 2.77)\n",
      "('T33', 'Juan', 'Perez', 2.59)\n",
      "('T34', 'Hernan', 'Rios', 3.61)\n",
      "('T35', 'Luis', 'Acosta', 2.13)\n",
      "('T36', 'Khal', 'Drogo', 3.46)\n",
      "('T37', 'Richard', 'Perez', 3.47)\n",
      "('T38', 'Jorge', 'Uribe', 2.22)\n",
      "('T39', 'Rafel', 'Uribe', 2.67)\n",
      "('T40', 'Juan', 'Castro', 3.12)\n",
      "('T41', 'Camilo', 'Ruiz', 2.5)\n",
      "('T42', 'Luis', 'Leon', 2.72)\n",
      "('T43', 'Lucas', 'Lopez', 2.79)\n",
      "('T44', 'Arya', 'Stark', 2.82)\n",
      "('T45', 'Ana', 'Grey', 2.35)\n",
      "('T46', 'Eric', 'Trump', 3.38)\n",
      "('T47', 'Donald', 'Lopez', 3.22)\n",
      "('T48', 'Jesus', 'Grau', 1.4)\n",
      "('T49', 'Timmy', 'Tyler', 2.52)\n",
      "('T50', 'Rose', 'Leslie', 2.75)\n"
     ]
    }
   ],
   "source": [
    "resultado = zip(codigo, nombre, apellido, final) \n",
    "\n",
    "for x in resultado:\n",
    "    print(x)"
   ]
  },
  {
   "cell_type": "code",
   "execution_count": 11,
   "metadata": {},
   "outputs": [
    {
     "name": "stdout",
     "output_type": "stream",
     "text": [
      "El estudiante con la mayor nota es: \n",
      "('T19', 'Erik ', 'Lehnsh'),4.21\n"
     ]
    }
   ],
   "source": [
    "resultado = zip(codigo, nombre, apellido, final) \n",
    "\n",
    "mayor = 0\n",
    "\n",
    "nota_mayor = []\n",
    "\n",
    "for x in resultado:\n",
    "    if x[3] > mayor:\n",
    "        mayor = x[3]\n",
    "        estudiante = x[0:3]\n",
    "print(\"El estudiante con la mayor nota es: \")\n",
    "print(f\"{estudiante},{mayor}\")      "
   ]
  },
  {
   "cell_type": "code",
   "execution_count": 12,
   "metadata": {},
   "outputs": [
    {
     "name": "stdout",
     "output_type": "stream",
     "text": [
      "El estudiante con la menor nota es: \n",
      "('T48', 'Jesus', 'Grau'),1.4\n"
     ]
    }
   ],
   "source": [
    "resultado = zip(codigo, nombre, apellido, final) \n",
    "\n",
    "menor = 10\n",
    "\n",
    "nota_mayor = []\n",
    "\n",
    "for x in resultado:\n",
    "    if x[3] < menor:\n",
    "        menor = x[3]\n",
    "        estudiante = x[0:3]\n",
    "print(\"El estudiante con la menor nota es: \")\n",
    "print(f\"{estudiante},{menor}\")    "
   ]
  },
  {
   "cell_type": "code",
   "execution_count": 13,
   "metadata": {},
   "outputs": [
    {
     "name": "stdout",
     "output_type": "stream",
     "text": [
      "+----------+\n",
      "|Resultados|\n",
      "+----------+\n",
      "\n",
      "En total hay 35 Deficientes\n",
      "En total hay 9 Regulares\n",
      "En total hay 2 Aceptables\n",
      "En total hay 1 Buenos\n",
      "En total hay 3 Excelentes\n"
     ]
    }
   ],
   "source": [
    "\"\"\"\n",
    "a. De 0.0 a 2.9 (Deficiente) \n",
    "b. De 3.0 a 3.4 (Regular) \n",
    "c. De 3.5 a 3.9 (Aceptable) \n",
    "d. De 4.0 a 4.4 (Bueno) \n",
    "e. De 4.5 a 5.0 (Excelente) \n",
    "\"\"\"\n",
    "\n",
    "resultado = zip(codigo, nombre, apellido, final) \n",
    "\n",
    "deficiente = 0\n",
    "regular = 0\n",
    "aceptable = 0\n",
    "bueno = 0\n",
    "excelente = 0\n",
    "\n",
    "for x in resultado:\n",
    "    if x[3] >= 0.0 and x[3] <= 2.9:\n",
    "            deficiente += 1\n",
    "    elif x[3] >= 3.0 and x[3] <= 3.4:\n",
    "        regular += 1       \n",
    "    elif x[3] >= 3.5 and x[3] <= 3.9:   \n",
    "        aceptable += 1       \n",
    "    elif x[3] >= 4.0 and x[3] <= 4.4:\n",
    "        bueno += 1     \n",
    "    else:\n",
    "        excelente += 1\n",
    "        \n",
    "print(\"+----------+\")\n",
    "print(\"|Resultados|\")\n",
    "print(\"+----------+\")\n",
    "print()\n",
    "print(f\"En total hay {deficiente} Deficientes\")\n",
    "print(f\"En total hay {regular} Regulares\")\n",
    "print(f\"En total hay {aceptable} Aceptables\")\n",
    "print(f\"En total hay {bueno} Buenos\")\n",
    "print(f\"En total hay {excelente} Excelentes\")"
   ]
  },
  {
   "cell_type": "code",
   "execution_count": 16,
   "metadata": {
    "scrolled": true
   },
   "outputs": [
    {
     "name": "stdout",
     "output_type": "stream",
     "text": [
      "La lista NO está ordenada ascendentemente\n",
      "\n",
      "Lista ordenada ascendentemente: \n",
      "(1.4, 'Grau')\n",
      "(1.7, 'Marie')\n",
      "(1.74, 'Napier')\n",
      "(1.85, 'Grayson')\n",
      "(2.08, 'Grey')\n",
      "(2.13, 'Acosta')\n",
      "(2.14, 'Hill')\n",
      "(2.14, 'Prince')\n",
      "(2.16, 'Munoz')\n",
      "(2.22, 'Uribe')\n",
      "(2.23, 'Garrick')\n",
      "(2.35, 'Grey')\n",
      "(2.36, 'Adam')\n",
      "(2.46, 'Yoshida')\n",
      "(2.48, 'Arrow')\n",
      "(2.5, 'Ruiz')\n",
      "(2.52, 'Tyler')\n",
      "(2.58, 'Ann')\n",
      "(2.58, 'Cassidy')\n",
      "(2.59, 'Lee')\n",
      "(2.59, 'Perez')\n",
      "(2.62, 'Kane')\n",
      "(2.67, 'Uribe')\n",
      "(2.71, 'McCarthy')\n",
      "(2.72, 'Leon')\n",
      "(2.73, 'Howlett')\n",
      "(2.74, 'McCoy')\n",
      "(2.74, 'Wayne')\n",
      "(2.75, 'Leslie')\n",
      "(2.77, 'Snow')\n",
      "(2.79, 'Lopez')\n",
      "(2.8, 'Kent')\n",
      "(2.82, 'Stark')\n",
      "(2.84, 'Barth')\n",
      "(2.84, 'Louis')\n",
      "(2.93, 'Nelson')\n",
      "(3.0, 'Burlon')\n",
      "(3.07, 'Carson')\n",
      "(3.07, 'Joseph')\n",
      "(3.08, 'Baz')\n",
      "(3.12, 'Castro')\n",
      "(3.15, 'Hall')\n",
      "(3.22, 'Lopez')\n",
      "(3.29, 'Wagner')\n",
      "(3.38, 'Trump')\n",
      "(3.46, 'Drogo')\n",
      "(3.47, 'Perez')\n",
      "(3.61, 'Rios')\n",
      "(3.75, 'Munroe')\n",
      "(4.21, 'Lehnsh')\n"
     ]
    }
   ],
   "source": [
    "burbuja = list(zip(final, apellido))\n",
    "    \n",
    "for i in range(len(burbuja)):\n",
    "    for j in range(len(burbuja)-1):\n",
    "        if(burbuja[j] > burbuja[j+1]):\n",
    "            aux = burbuja[j]\n",
    "            burbuja[j] = burbuja[j+1]\n",
    "            burbuja[j+1] = aux\n",
    "            rta = \"SI\"\n",
    "        else:\n",
    "            rta = \"NO\"\n",
    "    \n",
    "print(f\"La lista {rta} está ordenada ascendentemente\")\n",
    "print()\n",
    "print(\"Lista ordenada ascendentemente: \")\n",
    "\n",
    "for x in burbuja:\n",
    "    print(x)"
   ]
  },
  {
   "cell_type": "code",
   "execution_count": 17,
   "metadata": {},
   "outputs": [
    {
     "name": "stdout",
     "output_type": "stream",
     "text": [
      "En el primer corte ganaron: 23\n",
      "En el segundo corte ganaron: 12\n",
      "En el tercer corte ganaron: 10\n",
      "En el cuarto corte ganaron: 2\n"
     ]
    }
   ],
   "source": [
    "corte1 = 0\n",
    "corte2 = 0\n",
    "corte3 = 0\n",
    "corte4 = 0\n",
    "\n",
    "for x in convertir:\n",
    "    if x[0] >= 3.0:\n",
    "        corte1 += 1\n",
    "    elif x[1] >= 3.0:\n",
    "        corte2 += 1\n",
    "    elif x[2] >= 3.0:\n",
    "        corte3 += 1\n",
    "    elif x[3] >= 3.0:\n",
    "        corte4 += 1\n",
    "\n",
    "print(f\"En el primer corte ganaron: {corte1}\")\n",
    "print(f\"En el segundo corte ganaron: {corte2}\")\n",
    "print(f\"En el tercer corte ganaron: {corte3}\")\n",
    "print(f\"En el cuarto corte ganaron: {corte4}\")"
   ]
  },
  {
   "cell_type": "code",
   "execution_count": 18,
   "metadata": {},
   "outputs": [
    {
     "name": "stdout",
     "output_type": "stream",
     "text": [
      "moda: [3.07, 2.14, 2.59, 2.84, 2.74, 2.58]\n"
     ]
    }
   ],
   "source": [
    "repeticiones = 0\n",
    "\n",
    "for i in final:                                                                              \n",
    "    apariciones = final.count(i)                                                             \n",
    "    if apariciones > repeticiones:                                                       \n",
    "        repeticiones = apariciones                                                       \n",
    "                                                                                         \n",
    "modas = []             \n",
    "\n",
    "for i in final:                                                                              \n",
    "    apariciones = final.count(i)                                                             \n",
    "    if apariciones == repeticiones and i not in modas:                                   \n",
    "        modas.append(i)                                                                  \n",
    "                                                                                         \n",
    "print(\"moda:\", modas )"
   ]
  },
  {
   "cell_type": "code",
   "execution_count": 21,
   "metadata": {},
   "outputs": [
    {
     "name": "stdout",
     "output_type": "stream",
     "text": [
      "La desviacion estandar de las notas es: 0.536202387163653\n"
     ]
    }
   ],
   "source": [
    "# Ejemplos de estadistica descriptiva con python\n",
    "\n",
    "import numpy as np # importando numpy\n",
    "\n",
    "# Desviación típica\n",
    "print(\"La desviacion estandar de las notas es:\" , np.std(final))"
   ]
  },
  {
   "cell_type": "code",
   "execution_count": 22,
   "metadata": {},
   "outputs": [
    {
     "name": "stdout",
     "output_type": "stream",
     "text": [
      "+----------------+\n",
      "|TE MAMASTES BUEY|\n",
      "+----------------+\n"
     ]
    }
   ],
   "source": [
    "print(\"+----------------+\")\n",
    "print(\"|TE MAMASTES BUEY|\")\n",
    "print(\"+----------------+\")"
   ]
  },
  {
   "cell_type": "code",
   "execution_count": null,
   "metadata": {},
   "outputs": [
    {
     "name": "stdout",
     "output_type": "stream",
     "text": [
      "\n",
      "\tMENÚ\n",
      "\n",
      "-------ANGRY BIRDS------------\n",
      "1. Alcanzar un  Objetivo ingresando la velocidad inicial.\n",
      "2. Alcanzar el objetivo ingresando velocidad inicial y velocidad final con ciclo FOR \n",
      "3. Alcanzar el objetivo ingresando velocidad inicial y velocidad final con ciclo WHILE \n",
      "4. Terminar\n",
      "-------------------\n",
      "\n",
      "Digite opción <1-4>:1\n",
      "El estudiante con la mayor nota es: \n",
      "('T19', 'Erik ', 'Lehnsh'),4.21\n"
     ]
    }
   ],
   "source": [
    "#Definición de las funciones\n",
    "def mostrar_menu():\n",
    "    print(\"\\n\\tMENÚ\\n\")\n",
    "    print(\"-------ANGRY BIRDS------------\")\n",
    "    print(\"1. Alcanzar un  Objetivo ingresando la velocidad inicial.\")\n",
    "    print(\"2. Alcanzar el objetivo ingresando velocidad inicial y velocidad final con ciclo FOR \")\n",
    "    print(\"3. Alcanzar el objetivo ingresando velocidad inicial y velocidad final con ciclo WHILE \")    \n",
    "    print(\"4. Terminar\")\n",
    "    print(\"-------------------\")\n",
    " \n",
    "def opcion():\n",
    " \n",
    "    #validación selección\n",
    "    flag = False\n",
    "    while not(flag) :\n",
    "        seleccion=int(input(\"\\nDigite opción <1-4>:\"))\n",
    "        if seleccion>=1 and seleccion <=4:\n",
    "            flag= True\n",
    "    return seleccion\n",
    " \n",
    "def programa1():\n",
    "    resultado = zip(codigo, nombre, apellido, final) \n",
    "\n",
    "    mayor = 0\n",
    "\n",
    "    nota_mayor = []\n",
    "\n",
    "    for x in resultado:\n",
    "        if x[3] > mayor:\n",
    "            mayor = x[3]\n",
    "            estudiante = x[0:3]\n",
    "    print(\"El estudiante con la mayor nota es: \")\n",
    "    print(f\"{estudiante},{mayor}\")      \n",
    "    \n",
    "def programa2():\n",
    "  print(\"Programa 2\")\n",
    "\n",
    "def programa3():\n",
    "  print(\"Programa 3\")\n",
    "\n",
    " \n",
    " \n",
    "def main():\n",
    "    control = False\n",
    "    mostrar_menu()\n",
    "    while not control :\n",
    " \n",
    "        op = opcion()\n",
    "        if op == 1:\n",
    "            programa1()\n",
    "        elif op == 2:\n",
    "            programa2()\n",
    "        elif op == 3:\n",
    "            programa3()\n",
    "        elif op == 4:\n",
    "            control = True\n",
    "        else:\n",
    "            print(\"\\nError de seleccion\\n \")\n",
    "    print(\"fin del programa\")\n",
    "main()"
   ]
  },
  {
   "cell_type": "code",
   "execution_count": null,
   "metadata": {},
   "outputs": [],
   "source": []
  }
 ],
 "metadata": {
  "kernelspec": {
   "display_name": "Python 3",
   "language": "python",
   "name": "python3"
  },
  "language_info": {
   "codemirror_mode": {
    "name": "ipython",
    "version": 3
   },
   "file_extension": ".py",
   "mimetype": "text/x-python",
   "name": "python",
   "nbconvert_exporter": "python",
   "pygments_lexer": "ipython3",
   "version": "3.7.3"
  }
 },
 "nbformat": 4,
 "nbformat_minor": 2
}

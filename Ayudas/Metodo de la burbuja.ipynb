{
 "cells": [
  {
   "cell_type": "code",
   "execution_count": 3,
   "metadata": {},
   "outputs": [
    {
     "name": "stdout",
     "output_type": "stream",
     "text": [
      "La lista NO está ordenada ascendentemente\n",
      "\n",
      "Lista ordenada ascendentemente:  [-3, 1, 2, 3, 4, 5, 8]\n"
     ]
    }
   ],
   "source": [
    "def bubble_sort():\n",
    "    \n",
    "    lista = [3,2,1,-3,4,5,8]\n",
    "    \n",
    "    for i in range(len(lista)):\n",
    "        for j in range(len(lista)-1):\n",
    "            if(lista[j] > lista[j+1]):\n",
    "                aux = lista[j]\n",
    "                lista[j] = lista[j+1]\n",
    "                lista[j+1] = aux\n",
    "                rta = \"SI\"\n",
    "            else:\n",
    "                rta = \"NO\"\n",
    "    \n",
    "    print(f\"La lista {rta} está ordenada ascendentemente\")\n",
    "    print()\n",
    "    print(\"Lista ordenada ascendentemente: \", lista)\n",
    "\n",
    "bubble_sort()    "
   ]
  }
 ],
 "metadata": {
  "kernelspec": {
   "display_name": "Python 3",
   "language": "python",
   "name": "python3"
  },
  "language_info": {
   "codemirror_mode": {
    "name": "ipython",
    "version": 3
   },
   "file_extension": ".py",
   "mimetype": "text/x-python",
   "name": "python",
   "nbconvert_exporter": "python",
   "pygments_lexer": "ipython3",
   "version": "3.7.1"
  }
 },
 "nbformat": 4,
 "nbformat_minor": 2
}

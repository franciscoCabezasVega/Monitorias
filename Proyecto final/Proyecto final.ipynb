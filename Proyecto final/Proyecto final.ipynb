{
 "cells": [
  {
   "cell_type": "code",
   "execution_count": 1,
   "metadata": {},
   "outputs": [
    {
     "name": "stdout",
     "output_type": "stream",
     "text": [
      "Nro.  Identificación;Nombre;Edad;Estatura;Peso;género;Codigo Empresa Remisora;Tipo de Examen;Fecha Realización;frecuencia cardiaca;presion sistólica;presión diastólica;IMC;CONCEPTO DE RIESGO\n",
      "\n",
      "['25073437;MARTIN_RAFAEL_URBINA_MARBELLO;34;1,85;90;M;101002;1;1/03/2018;88;140;70;;\\n', '33342106;JAIRO_MURILLO_BAÑOS;22;1,66;65;M;101003;1;2/03/2018;75;110;60;;\\n', '20158361;MARBEL_CARABALLO_OJEDA;26;1,73;76;F;101002;1;2/03/2018;75;140;80;;\\n', '24349326;ALEJANDRO_CUESTA_COHEN;30;1,86;89;M;101001;1;3/03/2018;84;120;80;;\\n', '79585108;ROSA_ALEJANDRA_MENDEZ_BERBESI;24;1,76;65;F;101001;2;5/03/2018;78;140;90;;\\n', '82720985;DELIMIRA_MERIÑO_MUÑOZ;43;1,71;95;F;101004;2;7/03/2018;89;120;90;;\\n', '82891233;RUBY_ESTER_PRADA_ROZO;24;1,64;67;F;101001;2;7/03/2018;71;130;60;;\\n', '17021681;CIELO_PATRICIA_FERRER_NAIZZIR;35;1,75;77;F;101004;1;8/03/2018;72;130;80;;\\n', '64301644;IVAN_JOSE_TORRES_RAMOS;40;1,87;92;M;101002;2;9/03/2018;75;120;60;;\\n', '23238635;FRANKLIN_RAFAEL_CASTAÑO_HERRERA;25;1,82;98;M;101003;2;11/03/2018;73;110;60;;\\n', '75457951;LIZETT_PAOLA_ARNEDO_BUITRAGO;39;1,66;72;F;101002;3;11/03/2018;83;120;60;;\\n', '66095881;RAFAEL_ANGEL_PUELLO_CABARCAS;38;1,91;85;M;101004;2;11/03/2018;85;140;90;;\\n', '37098494;JAVIER_ALFONSO_DIAZ_SALAMANCA;29;1,93;105;M;101002;2;12/03/2018;71;110;60;;\\n', '92661079;CARLOS_ARTURO_DURANTE_ALVAREZ;25;1,74;75;M;101002;3;12/03/2018;72;120;60;;\\n', '82343202;LUIS_ANTONIO_ACOSTA_LOPEZ;34;1,73;77;M;101003;1;14/03/2018;75;140;90;;\\n', '77988082;CATALINA_SIERRA_PAILLIER;45;1,69;59;F;101003;2;14/03/2018;81;120;90;;\\n', '76628329;JHORLAND_AYALA_CORREA;30;1,93;85;M;101004;1;14/03/2018;86;140;70;;\\n', '40534480;CESAR_AUGUSTO_DAGER_OQUENDO;37;1,66;79;M;101001;2;15/03/2018;74;130;80;;\\n', '15777744;DELLY_PATRICIA_RAMOS_MARTINEZ;32;1,68;60;F;101001;1;16/03/2018;71;120;60;;\\n', '81459130;JUAN_MAURICIO_ASIS_RINCON;18;1,73;73;M;101002;3;18/03/2018;74;140;80;;\\n', '49616181;ENRIQUE_SERGIO_JIMENEZ_NARVAEZ;43;1,83;116;M;101001;2;19/03/2018;80;140;70;;\\n', '85120193;ANTONIO_MARCO_MARTELO_OJEDA;59;1,83;80;M;101004;2;19/03/2018;88;160;110;;\\n', '47044750;GUILLERMO_LUIS_FERNANDEZ_SANCHEZ;34;1,82;100;M;101001;1;20/03/2018;77;120;70;;\\n', '90592067;XIOMARA_LUISA_FLOREZ_ACOSTA;29;1,73;65;F;101002;1;20/03/2018;75;110;90;;\\n', '23262832;AUGUSTO_JOSE_IBARRA_VILLALOBOS;39;1,71;78;M;101001;3;20/03/2018;80;140;80;;\\n', '42859047;LUIS_JORGE_QUINTERO_GAITAN;32;1,81;79;M;101004;1;21/03/2018;85;120;90;;\\n', '23061384;IGNACIO_JAVIER_CARMONA_MARBELLO;21;1,81;72;M;101004;3;21/03/2018;85;130;70;;\\n', '70093374;ELENA_INES_VARGAS_IMITOLA;38;1,55;62;F;101003;1;21/03/2018;70;120;70;;\\n', '84094639;HUMBERTO_CRUZ_DEL_CASTILLO;33;1,85;75;M;101004;1;23/03/2018;81;140;100;;\\n', '71815408;MANUEL_MARZAN_LAMADRID;40;1,84;87;M;101002;2;25/03/2018;80;130;80;;\\n', '40737909;AMELIA_ISABEL_DAGER_SUCCAR;31;1,55;52;F;101001;3;25/03/2018;87;110;70;;\\n', '46699635;ENRIQUE_GUARDO_BENEDETTI;29;1,73;99;M;101002;3;26/03/2018;87;130;70;;\\n', '38927344;LILIANA_BEATRIZ_HENAO_MARBELLO;32;1,59;49;F;101001;1;26/03/2018;76;110;60;;\\n', '69932096;EDGAR_COLEY_JIMENEZ;28;1,68;88;M;101002;1;28/03/2018;73;130;90;;\\n', '45119541;DELIMIRA_GALVAN_ALMANZA;34;1,68;77;F;101001;1;28/03/2018;78;130;90;;\\n', '77032572;DAWIN_CASTILLO_SIMANCAS;60;1,90;93;M;101003;2;29/03/2018;84;150;60;;\\n', '33604746;CAROLINA_CARABALLO_CANTILLO;33;1,56;68;F;101002;1;29/03/2018;75;140;70;;\\n', '24271381;BETY_PEÑA_COHEN;29;1,66;70;F;101001;3;29/03/2018;81;120;70;;\\n', '87804237;JOSE_ALEXANDER_TORRES_CAMPILLO;23;1,72;75;M;101004;3;29/03/2018;74;120;90;;\\n']\n"
     ]
    }
   ],
   "source": [
    "# Abre archivo en modo de lectura \n",
    "archivo = open(\"datos.csv\",\"r\")\n",
    "# Lee solo la primera linea\n",
    "linea1 = archivo.readline() \n",
    "# Lee todas las linea\n",
    "lineas = archivo.readlines() \n",
    "# Cierra archivo \n",
    "archivo.close()\n",
    "# Imprimir lineas \n",
    "print(linea1) \n",
    "print(lineas)"
   ]
  },
  {
   "cell_type": "code",
   "execution_count": 2,
   "metadata": {},
   "outputs": [
    {
     "name": "stdout",
     "output_type": "stream",
     "text": [
      "Nro.  Identificación;Nombre;Edad;Estatura;Peso;género;Codigo Empresa Remisora;Tipo de Examen;Fecha Realización;frecuencia cardiaca;presion sistólica;presión diastólica;IMC;CONCEPTO DE RIESGO\n",
      "\n",
      "25073437;MARTIN_RAFAEL_URBINA_MARBELLO;34;1,85;90;M;101002;1;1/03/2018;88;140;70;;\n",
      "\n",
      "33342106;JAIRO_MURILLO_BAÑOS;22;1,66;65;M;101003;1;2/03/2018;75;110;60;;\n",
      "\n",
      "20158361;MARBEL_CARABALLO_OJEDA;26;1,73;76;F;101002;1;2/03/2018;75;140;80;;\n",
      "\n",
      "24349326;ALEJANDRO_CUESTA_COHEN;30;1,86;89;M;101001;1;3/03/2018;84;120;80;;\n",
      "\n",
      "79585108;ROSA_ALEJANDRA_MENDEZ_BERBESI;24;1,76;65;F;101001;2;5/03/2018;78;140;90;;\n",
      "\n",
      "82720985;DELIMIRA_MERIÑO_MUÑOZ;43;1,71;95;F;101004;2;7/03/2018;89;120;90;;\n",
      "\n",
      "82891233;RUBY_ESTER_PRADA_ROZO;24;1,64;67;F;101001;2;7/03/2018;71;130;60;;\n",
      "\n",
      "17021681;CIELO_PATRICIA_FERRER_NAIZZIR;35;1,75;77;F;101004;1;8/03/2018;72;130;80;;\n",
      "\n",
      "64301644;IVAN_JOSE_TORRES_RAMOS;40;1,87;92;M;101002;2;9/03/2018;75;120;60;;\n",
      "\n",
      "23238635;FRANKLIN_RAFAEL_CASTAÑO_HERRERA;25;1,82;98;M;101003;2;11/03/2018;73;110;60;;\n",
      "\n",
      "75457951;LIZETT_PAOLA_ARNEDO_BUITRAGO;39;1,66;72;F;101002;3;11/03/2018;83;120;60;;\n",
      "\n",
      "66095881;RAFAEL_ANGEL_PUELLO_CABARCAS;38;1,91;85;M;101004;2;11/03/2018;85;140;90;;\n",
      "\n",
      "37098494;JAVIER_ALFONSO_DIAZ_SALAMANCA;29;1,93;105;M;101002;2;12/03/2018;71;110;60;;\n",
      "\n",
      "92661079;CARLOS_ARTURO_DURANTE_ALVAREZ;25;1,74;75;M;101002;3;12/03/2018;72;120;60;;\n",
      "\n",
      "82343202;LUIS_ANTONIO_ACOSTA_LOPEZ;34;1,73;77;M;101003;1;14/03/2018;75;140;90;;\n",
      "\n",
      "77988082;CATALINA_SIERRA_PAILLIER;45;1,69;59;F;101003;2;14/03/2018;81;120;90;;\n",
      "\n",
      "76628329;JHORLAND_AYALA_CORREA;30;1,93;85;M;101004;1;14/03/2018;86;140;70;;\n",
      "\n",
      "40534480;CESAR_AUGUSTO_DAGER_OQUENDO;37;1,66;79;M;101001;2;15/03/2018;74;130;80;;\n",
      "\n",
      "15777744;DELLY_PATRICIA_RAMOS_MARTINEZ;32;1,68;60;F;101001;1;16/03/2018;71;120;60;;\n",
      "\n",
      "81459130;JUAN_MAURICIO_ASIS_RINCON;18;1,73;73;M;101002;3;18/03/2018;74;140;80;;\n",
      "\n",
      "49616181;ENRIQUE_SERGIO_JIMENEZ_NARVAEZ;43;1,83;116;M;101001;2;19/03/2018;80;140;70;;\n",
      "\n",
      "85120193;ANTONIO_MARCO_MARTELO_OJEDA;59;1,83;80;M;101004;2;19/03/2018;88;160;110;;\n",
      "\n",
      "47044750;GUILLERMO_LUIS_FERNANDEZ_SANCHEZ;34;1,82;100;M;101001;1;20/03/2018;77;120;70;;\n",
      "\n",
      "90592067;XIOMARA_LUISA_FLOREZ_ACOSTA;29;1,73;65;F;101002;1;20/03/2018;75;110;90;;\n",
      "\n",
      "23262832;AUGUSTO_JOSE_IBARRA_VILLALOBOS;39;1,71;78;M;101001;3;20/03/2018;80;140;80;;\n",
      "\n",
      "42859047;LUIS_JORGE_QUINTERO_GAITAN;32;1,81;79;M;101004;1;21/03/2018;85;120;90;;\n",
      "\n",
      "23061384;IGNACIO_JAVIER_CARMONA_MARBELLO;21;1,81;72;M;101004;3;21/03/2018;85;130;70;;\n",
      "\n",
      "70093374;ELENA_INES_VARGAS_IMITOLA;38;1,55;62;F;101003;1;21/03/2018;70;120;70;;\n",
      "\n",
      "84094639;HUMBERTO_CRUZ_DEL_CASTILLO;33;1,85;75;M;101004;1;23/03/2018;81;140;100;;\n",
      "\n",
      "71815408;MANUEL_MARZAN_LAMADRID;40;1,84;87;M;101002;2;25/03/2018;80;130;80;;\n",
      "\n",
      "40737909;AMELIA_ISABEL_DAGER_SUCCAR;31;1,55;52;F;101001;3;25/03/2018;87;110;70;;\n",
      "\n",
      "46699635;ENRIQUE_GUARDO_BENEDETTI;29;1,73;99;M;101002;3;26/03/2018;87;130;70;;\n",
      "\n",
      "38927344;LILIANA_BEATRIZ_HENAO_MARBELLO;32;1,59;49;F;101001;1;26/03/2018;76;110;60;;\n",
      "\n",
      "69932096;EDGAR_COLEY_JIMENEZ;28;1,68;88;M;101002;1;28/03/2018;73;130;90;;\n",
      "\n",
      "45119541;DELIMIRA_GALVAN_ALMANZA;34;1,68;77;F;101001;1;28/03/2018;78;130;90;;\n",
      "\n",
      "77032572;DAWIN_CASTILLO_SIMANCAS;60;1,90;93;M;101003;2;29/03/2018;84;150;60;;\n",
      "\n",
      "33604746;CAROLINA_CARABALLO_CANTILLO;33;1,56;68;F;101002;1;29/03/2018;75;140;70;;\n",
      "\n",
      "24271381;BETY_PEÑA_COHEN;29;1,66;70;F;101001;3;29/03/2018;81;120;70;;\n",
      "\n",
      "87804237;JOSE_ALEXANDER_TORRES_CAMPILLO;23;1,72;75;M;101004;3;29/03/2018;74;120;90;;\n",
      "\n"
     ]
    }
   ],
   "source": [
    "# Abre archivo en modo de lectura \n",
    "archivo = open(\"datos.csv\",\"r\")\n",
    "# Recorre linea a linea el archivo \n",
    "for linea in archivo: \n",
    "    print(linea)\n",
    "# Cierra archivo     \n",
    "archivo.close()"
   ]
  },
  {
   "cell_type": "code",
   "execution_count": 3,
   "metadata": {},
   "outputs": [
    {
     "name": "stdout",
     "output_type": "stream",
     "text": [
      "['Nro.  Identificación', 'Nombre', 'Edad', 'Estatura', 'Peso', 'género', 'Codigo Empresa Remisora', 'Tipo de Examen', 'Fecha Realización', 'frecuencia cardiaca', 'presion sistólica', 'presión diastólica', 'IMC', 'CONCEPTO DE RIESGO']\n",
      "['25073437', 'MARTIN_RAFAEL_URBINA_MARBELLO', '34', '1,85', '90', 'M', '101002', '1', '1/03/2018', '88', '140', '70', '', '']\n",
      "['33342106', 'JAIRO_MURILLO_BAÑOS', '22', '1,66', '65', 'M', '101003', '1', '2/03/2018', '75', '110', '60', '', '']\n",
      "['20158361', 'MARBEL_CARABALLO_OJEDA', '26', '1,73', '76', 'F', '101002', '1', '2/03/2018', '75', '140', '80', '', '']\n",
      "['24349326', 'ALEJANDRO_CUESTA_COHEN', '30', '1,86', '89', 'M', '101001', '1', '3/03/2018', '84', '120', '80', '', '']\n",
      "['79585108', 'ROSA_ALEJANDRA_MENDEZ_BERBESI', '24', '1,76', '65', 'F', '101001', '2', '5/03/2018', '78', '140', '90', '', '']\n",
      "['82720985', 'DELIMIRA_MERIÑO_MUÑOZ', '43', '1,71', '95', 'F', '101004', '2', '7/03/2018', '89', '120', '90', '', '']\n",
      "['82891233', 'RUBY_ESTER_PRADA_ROZO', '24', '1,64', '67', 'F', '101001', '2', '7/03/2018', '71', '130', '60', '', '']\n",
      "['17021681', 'CIELO_PATRICIA_FERRER_NAIZZIR', '35', '1,75', '77', 'F', '101004', '1', '8/03/2018', '72', '130', '80', '', '']\n",
      "['64301644', 'IVAN_JOSE_TORRES_RAMOS', '40', '1,87', '92', 'M', '101002', '2', '9/03/2018', '75', '120', '60', '', '']\n",
      "['23238635', 'FRANKLIN_RAFAEL_CASTAÑO_HERRERA', '25', '1,82', '98', 'M', '101003', '2', '11/03/2018', '73', '110', '60', '', '']\n",
      "['75457951', 'LIZETT_PAOLA_ARNEDO_BUITRAGO', '39', '1,66', '72', 'F', '101002', '3', '11/03/2018', '83', '120', '60', '', '']\n",
      "['66095881', 'RAFAEL_ANGEL_PUELLO_CABARCAS', '38', '1,91', '85', 'M', '101004', '2', '11/03/2018', '85', '140', '90', '', '']\n",
      "['37098494', 'JAVIER_ALFONSO_DIAZ_SALAMANCA', '29', '1,93', '105', 'M', '101002', '2', '12/03/2018', '71', '110', '60', '', '']\n",
      "['92661079', 'CARLOS_ARTURO_DURANTE_ALVAREZ', '25', '1,74', '75', 'M', '101002', '3', '12/03/2018', '72', '120', '60', '', '']\n",
      "['82343202', 'LUIS_ANTONIO_ACOSTA_LOPEZ', '34', '1,73', '77', 'M', '101003', '1', '14/03/2018', '75', '140', '90', '', '']\n",
      "['77988082', 'CATALINA_SIERRA_PAILLIER', '45', '1,69', '59', 'F', '101003', '2', '14/03/2018', '81', '120', '90', '', '']\n",
      "['76628329', 'JHORLAND_AYALA_CORREA', '30', '1,93', '85', 'M', '101004', '1', '14/03/2018', '86', '140', '70', '', '']\n",
      "['40534480', 'CESAR_AUGUSTO_DAGER_OQUENDO', '37', '1,66', '79', 'M', '101001', '2', '15/03/2018', '74', '130', '80', '', '']\n",
      "['15777744', 'DELLY_PATRICIA_RAMOS_MARTINEZ', '32', '1,68', '60', 'F', '101001', '1', '16/03/2018', '71', '120', '60', '', '']\n",
      "['81459130', 'JUAN_MAURICIO_ASIS_RINCON', '18', '1,73', '73', 'M', '101002', '3', '18/03/2018', '74', '140', '80', '', '']\n",
      "['49616181', 'ENRIQUE_SERGIO_JIMENEZ_NARVAEZ', '43', '1,83', '116', 'M', '101001', '2', '19/03/2018', '80', '140', '70', '', '']\n",
      "['85120193', 'ANTONIO_MARCO_MARTELO_OJEDA', '59', '1,83', '80', 'M', '101004', '2', '19/03/2018', '88', '160', '110', '', '']\n",
      "['47044750', 'GUILLERMO_LUIS_FERNANDEZ_SANCHEZ', '34', '1,82', '100', 'M', '101001', '1', '20/03/2018', '77', '120', '70', '', '']\n",
      "['90592067', 'XIOMARA_LUISA_FLOREZ_ACOSTA', '29', '1,73', '65', 'F', '101002', '1', '20/03/2018', '75', '110', '90', '', '']\n",
      "['23262832', 'AUGUSTO_JOSE_IBARRA_VILLALOBOS', '39', '1,71', '78', 'M', '101001', '3', '20/03/2018', '80', '140', '80', '', '']\n",
      "['42859047', 'LUIS_JORGE_QUINTERO_GAITAN', '32', '1,81', '79', 'M', '101004', '1', '21/03/2018', '85', '120', '90', '', '']\n",
      "['23061384', 'IGNACIO_JAVIER_CARMONA_MARBELLO', '21', '1,81', '72', 'M', '101004', '3', '21/03/2018', '85', '130', '70', '', '']\n",
      "['70093374', 'ELENA_INES_VARGAS_IMITOLA', '38', '1,55', '62', 'F', '101003', '1', '21/03/2018', '70', '120', '70', '', '']\n",
      "['84094639', 'HUMBERTO_CRUZ_DEL_CASTILLO', '33', '1,85', '75', 'M', '101004', '1', '23/03/2018', '81', '140', '100', '', '']\n",
      "['71815408', 'MANUEL_MARZAN_LAMADRID', '40', '1,84', '87', 'M', '101002', '2', '25/03/2018', '80', '130', '80', '', '']\n",
      "['40737909', 'AMELIA_ISABEL_DAGER_SUCCAR', '31', '1,55', '52', 'F', '101001', '3', '25/03/2018', '87', '110', '70', '', '']\n",
      "['46699635', 'ENRIQUE_GUARDO_BENEDETTI', '29', '1,73', '99', 'M', '101002', '3', '26/03/2018', '87', '130', '70', '', '']\n",
      "['38927344', 'LILIANA_BEATRIZ_HENAO_MARBELLO', '32', '1,59', '49', 'F', '101001', '1', '26/03/2018', '76', '110', '60', '', '']\n",
      "['69932096', 'EDGAR_COLEY_JIMENEZ', '28', '1,68', '88', 'M', '101002', '1', '28/03/2018', '73', '130', '90', '', '']\n",
      "['45119541', 'DELIMIRA_GALVAN_ALMANZA', '34', '1,68', '77', 'F', '101001', '1', '28/03/2018', '78', '130', '90', '', '']\n",
      "['77032572', 'DAWIN_CASTILLO_SIMANCAS', '60', '1,90', '93', 'M', '101003', '2', '29/03/2018', '84', '150', '60', '', '']\n",
      "['33604746', 'CAROLINA_CARABALLO_CANTILLO', '33', '1,56', '68', 'F', '101002', '1', '29/03/2018', '75', '140', '70', '', '']\n",
      "['24271381', 'BETY_PEÑA_COHEN', '29', '1,66', '70', 'F', '101001', '3', '29/03/2018', '81', '120', '70', '', '']\n",
      "['87804237', 'JOSE_ALEXANDER_TORRES_CAMPILLO', '23', '1,72', '75', 'M', '101004', '3', '29/03/2018', '74', '120', '90', '', '']\n",
      "\n",
      "[['Nro.  Identificación', 'Nombre', 'Edad', 'Estatura', 'Peso', 'género', 'Codigo Empresa Remisora', 'Tipo de Examen', 'Fecha Realización', 'frecuencia cardiaca', 'presion sistólica', 'presión diastólica', 'IMC', 'CONCEPTO DE RIESGO'], ['25073437', 'MARTIN_RAFAEL_URBINA_MARBELLO', '34', '1,85', '90', 'M', '101002', '1', '1/03/2018', '88', '140', '70', '', ''], ['33342106', 'JAIRO_MURILLO_BAÑOS', '22', '1,66', '65', 'M', '101003', '1', '2/03/2018', '75', '110', '60', '', ''], ['20158361', 'MARBEL_CARABALLO_OJEDA', '26', '1,73', '76', 'F', '101002', '1', '2/03/2018', '75', '140', '80', '', ''], ['24349326', 'ALEJANDRO_CUESTA_COHEN', '30', '1,86', '89', 'M', '101001', '1', '3/03/2018', '84', '120', '80', '', ''], ['79585108', 'ROSA_ALEJANDRA_MENDEZ_BERBESI', '24', '1,76', '65', 'F', '101001', '2', '5/03/2018', '78', '140', '90', '', ''], ['82720985', 'DELIMIRA_MERIÑO_MUÑOZ', '43', '1,71', '95', 'F', '101004', '2', '7/03/2018', '89', '120', '90', '', ''], ['82891233', 'RUBY_ESTER_PRADA_ROZO', '24', '1,64', '67', 'F', '101001', '2', '7/03/2018', '71', '130', '60', '', ''], ['17021681', 'CIELO_PATRICIA_FERRER_NAIZZIR', '35', '1,75', '77', 'F', '101004', '1', '8/03/2018', '72', '130', '80', '', ''], ['64301644', 'IVAN_JOSE_TORRES_RAMOS', '40', '1,87', '92', 'M', '101002', '2', '9/03/2018', '75', '120', '60', '', ''], ['23238635', 'FRANKLIN_RAFAEL_CASTAÑO_HERRERA', '25', '1,82', '98', 'M', '101003', '2', '11/03/2018', '73', '110', '60', '', ''], ['75457951', 'LIZETT_PAOLA_ARNEDO_BUITRAGO', '39', '1,66', '72', 'F', '101002', '3', '11/03/2018', '83', '120', '60', '', ''], ['66095881', 'RAFAEL_ANGEL_PUELLO_CABARCAS', '38', '1,91', '85', 'M', '101004', '2', '11/03/2018', '85', '140', '90', '', ''], ['37098494', 'JAVIER_ALFONSO_DIAZ_SALAMANCA', '29', '1,93', '105', 'M', '101002', '2', '12/03/2018', '71', '110', '60', '', ''], ['92661079', 'CARLOS_ARTURO_DURANTE_ALVAREZ', '25', '1,74', '75', 'M', '101002', '3', '12/03/2018', '72', '120', '60', '', ''], ['82343202', 'LUIS_ANTONIO_ACOSTA_LOPEZ', '34', '1,73', '77', 'M', '101003', '1', '14/03/2018', '75', '140', '90', '', ''], ['77988082', 'CATALINA_SIERRA_PAILLIER', '45', '1,69', '59', 'F', '101003', '2', '14/03/2018', '81', '120', '90', '', ''], ['76628329', 'JHORLAND_AYALA_CORREA', '30', '1,93', '85', 'M', '101004', '1', '14/03/2018', '86', '140', '70', '', ''], ['40534480', 'CESAR_AUGUSTO_DAGER_OQUENDO', '37', '1,66', '79', 'M', '101001', '2', '15/03/2018', '74', '130', '80', '', ''], ['15777744', 'DELLY_PATRICIA_RAMOS_MARTINEZ', '32', '1,68', '60', 'F', '101001', '1', '16/03/2018', '71', '120', '60', '', ''], ['81459130', 'JUAN_MAURICIO_ASIS_RINCON', '18', '1,73', '73', 'M', '101002', '3', '18/03/2018', '74', '140', '80', '', ''], ['49616181', 'ENRIQUE_SERGIO_JIMENEZ_NARVAEZ', '43', '1,83', '116', 'M', '101001', '2', '19/03/2018', '80', '140', '70', '', ''], ['85120193', 'ANTONIO_MARCO_MARTELO_OJEDA', '59', '1,83', '80', 'M', '101004', '2', '19/03/2018', '88', '160', '110', '', ''], ['47044750', 'GUILLERMO_LUIS_FERNANDEZ_SANCHEZ', '34', '1,82', '100', 'M', '101001', '1', '20/03/2018', '77', '120', '70', '', ''], ['90592067', 'XIOMARA_LUISA_FLOREZ_ACOSTA', '29', '1,73', '65', 'F', '101002', '1', '20/03/2018', '75', '110', '90', '', ''], ['23262832', 'AUGUSTO_JOSE_IBARRA_VILLALOBOS', '39', '1,71', '78', 'M', '101001', '3', '20/03/2018', '80', '140', '80', '', ''], ['42859047', 'LUIS_JORGE_QUINTERO_GAITAN', '32', '1,81', '79', 'M', '101004', '1', '21/03/2018', '85', '120', '90', '', ''], ['23061384', 'IGNACIO_JAVIER_CARMONA_MARBELLO', '21', '1,81', '72', 'M', '101004', '3', '21/03/2018', '85', '130', '70', '', ''], ['70093374', 'ELENA_INES_VARGAS_IMITOLA', '38', '1,55', '62', 'F', '101003', '1', '21/03/2018', '70', '120', '70', '', ''], ['84094639', 'HUMBERTO_CRUZ_DEL_CASTILLO', '33', '1,85', '75', 'M', '101004', '1', '23/03/2018', '81', '140', '100', '', ''], ['71815408', 'MANUEL_MARZAN_LAMADRID', '40', '1,84', '87', 'M', '101002', '2', '25/03/2018', '80', '130', '80', '', ''], ['40737909', 'AMELIA_ISABEL_DAGER_SUCCAR', '31', '1,55', '52', 'F', '101001', '3', '25/03/2018', '87', '110', '70', '', ''], ['46699635', 'ENRIQUE_GUARDO_BENEDETTI', '29', '1,73', '99', 'M', '101002', '3', '26/03/2018', '87', '130', '70', '', ''], ['38927344', 'LILIANA_BEATRIZ_HENAO_MARBELLO', '32', '1,59', '49', 'F', '101001', '1', '26/03/2018', '76', '110', '60', '', ''], ['69932096', 'EDGAR_COLEY_JIMENEZ', '28', '1,68', '88', 'M', '101002', '1', '28/03/2018', '73', '130', '90', '', ''], ['45119541', 'DELIMIRA_GALVAN_ALMANZA', '34', '1,68', '77', 'F', '101001', '1', '28/03/2018', '78', '130', '90', '', ''], ['77032572', 'DAWIN_CASTILLO_SIMANCAS', '60', '1,90', '93', 'M', '101003', '2', '29/03/2018', '84', '150', '60', '', ''], ['33604746', 'CAROLINA_CARABALLO_CANTILLO', '33', '1,56', '68', 'F', '101002', '1', '29/03/2018', '75', '140', '70', '', ''], ['24271381', 'BETY_PEÑA_COHEN', '29', '1,66', '70', 'F', '101001', '3', '29/03/2018', '81', '120', '70', '', ''], ['87804237', 'JOSE_ALEXANDER_TORRES_CAMPILLO', '23', '1,72', '75', 'M', '101004', '3', '29/03/2018', '74', '120', '90', '', '']]\n"
     ]
    }
   ],
   "source": [
    "# Declara lista \n",
    "lista1 = []\n",
    "# Abre archivo en modo de lectura \n",
    "archivo = open(\"datos.csv\", \"r\")\n",
    "# Recorre linea a linea el archivo \n",
    "for linea in archivo: \n",
    "    # Recoge cada uno de los caracteres, omitiendo los caracteres especiales\n",
    "    # Al mismo tiempo convierte la cadena de caracteres omitiento el ; en una lista \n",
    "    lista = linea.strip().split(\";\") \n",
    "    print(lista) \n",
    "    # Añadimos las lineas a una lista\n",
    "    lista1.append(lista) \n",
    "print()\n",
    "# Imprimimos la lista\n",
    "print(lista1) \n",
    "# Cierra archivo     \n",
    "archivo.close()"
   ]
  },
  {
   "cell_type": "code",
   "execution_count": 4,
   "metadata": {},
   "outputs": [
    {
     "name": "stdout",
     "output_type": "stream",
     "text": [
      "lista 1 -->\n",
      " [['25073437', 'MARTIN_RAFAEL_URBINA_MARBELLO', '34', '1,85', '90', 'M', '101002', '1', '1/03/2018', '88', '140', '70', '', ''], ['33342106', 'JAIRO_MURILLO_BAÑOS', '22', '1,66', '65', 'M', '101003', '1', '2/03/2018', '75', '110', '60', '', ''], ['20158361', 'MARBEL_CARABALLO_OJEDA', '26', '1,73', '76', 'F', '101002', '1', '2/03/2018', '75', '140', '80', '', ''], ['24349326', 'ALEJANDRO_CUESTA_COHEN', '30', '1,86', '89', 'M', '101001', '1', '3/03/2018', '84', '120', '80', '', ''], ['79585108', 'ROSA_ALEJANDRA_MENDEZ_BERBESI', '24', '1,76', '65', 'F', '101001', '2', '5/03/2018', '78', '140', '90', '', ''], ['82720985', 'DELIMIRA_MERIÑO_MUÑOZ', '43', '1,71', '95', 'F', '101004', '2', '7/03/2018', '89', '120', '90', '', ''], ['82891233', 'RUBY_ESTER_PRADA_ROZO', '24', '1,64', '67', 'F', '101001', '2', '7/03/2018', '71', '130', '60', '', ''], ['17021681', 'CIELO_PATRICIA_FERRER_NAIZZIR', '35', '1,75', '77', 'F', '101004', '1', '8/03/2018', '72', '130', '80', '', ''], ['64301644', 'IVAN_JOSE_TORRES_RAMOS', '40', '1,87', '92', 'M', '101002', '2', '9/03/2018', '75', '120', '60', '', ''], ['23238635', 'FRANKLIN_RAFAEL_CASTAÑO_HERRERA', '25', '1,82', '98', 'M', '101003', '2', '11/03/2018', '73', '110', '60', '', ''], ['75457951', 'LIZETT_PAOLA_ARNEDO_BUITRAGO', '39', '1,66', '72', 'F', '101002', '3', '11/03/2018', '83', '120', '60', '', ''], ['66095881', 'RAFAEL_ANGEL_PUELLO_CABARCAS', '38', '1,91', '85', 'M', '101004', '2', '11/03/2018', '85', '140', '90', '', ''], ['37098494', 'JAVIER_ALFONSO_DIAZ_SALAMANCA', '29', '1,93', '105', 'M', '101002', '2', '12/03/2018', '71', '110', '60', '', ''], ['92661079', 'CARLOS_ARTURO_DURANTE_ALVAREZ', '25', '1,74', '75', 'M', '101002', '3', '12/03/2018', '72', '120', '60', '', ''], ['82343202', 'LUIS_ANTONIO_ACOSTA_LOPEZ', '34', '1,73', '77', 'M', '101003', '1', '14/03/2018', '75', '140', '90', '', ''], ['77988082', 'CATALINA_SIERRA_PAILLIER', '45', '1,69', '59', 'F', '101003', '2', '14/03/2018', '81', '120', '90', '', ''], ['76628329', 'JHORLAND_AYALA_CORREA', '30', '1,93', '85', 'M', '101004', '1', '14/03/2018', '86', '140', '70', '', ''], ['40534480', 'CESAR_AUGUSTO_DAGER_OQUENDO', '37', '1,66', '79', 'M', '101001', '2', '15/03/2018', '74', '130', '80', '', ''], ['15777744', 'DELLY_PATRICIA_RAMOS_MARTINEZ', '32', '1,68', '60', 'F', '101001', '1', '16/03/2018', '71', '120', '60', '', ''], ['81459130', 'JUAN_MAURICIO_ASIS_RINCON', '18', '1,73', '73', 'M', '101002', '3', '18/03/2018', '74', '140', '80', '', ''], ['49616181', 'ENRIQUE_SERGIO_JIMENEZ_NARVAEZ', '43', '1,83', '116', 'M', '101001', '2', '19/03/2018', '80', '140', '70', '', ''], ['85120193', 'ANTONIO_MARCO_MARTELO_OJEDA', '59', '1,83', '80', 'M', '101004', '2', '19/03/2018', '88', '160', '110', '', ''], ['47044750', 'GUILLERMO_LUIS_FERNANDEZ_SANCHEZ', '34', '1,82', '100', 'M', '101001', '1', '20/03/2018', '77', '120', '70', '', ''], ['90592067', 'XIOMARA_LUISA_FLOREZ_ACOSTA', '29', '1,73', '65', 'F', '101002', '1', '20/03/2018', '75', '110', '90', '', ''], ['23262832', 'AUGUSTO_JOSE_IBARRA_VILLALOBOS', '39', '1,71', '78', 'M', '101001', '3', '20/03/2018', '80', '140', '80', '', ''], ['42859047', 'LUIS_JORGE_QUINTERO_GAITAN', '32', '1,81', '79', 'M', '101004', '1', '21/03/2018', '85', '120', '90', '', ''], ['23061384', 'IGNACIO_JAVIER_CARMONA_MARBELLO', '21', '1,81', '72', 'M', '101004', '3', '21/03/2018', '85', '130', '70', '', ''], ['70093374', 'ELENA_INES_VARGAS_IMITOLA', '38', '1,55', '62', 'F', '101003', '1', '21/03/2018', '70', '120', '70', '', ''], ['84094639', 'HUMBERTO_CRUZ_DEL_CASTILLO', '33', '1,85', '75', 'M', '101004', '1', '23/03/2018', '81', '140', '100', '', ''], ['71815408', 'MANUEL_MARZAN_LAMADRID', '40', '1,84', '87', 'M', '101002', '2', '25/03/2018', '80', '130', '80', '', ''], ['40737909', 'AMELIA_ISABEL_DAGER_SUCCAR', '31', '1,55', '52', 'F', '101001', '3', '25/03/2018', '87', '110', '70', '', ''], ['46699635', 'ENRIQUE_GUARDO_BENEDETTI', '29', '1,73', '99', 'M', '101002', '3', '26/03/2018', '87', '130', '70', '', ''], ['38927344', 'LILIANA_BEATRIZ_HENAO_MARBELLO', '32', '1,59', '49', 'F', '101001', '1', '26/03/2018', '76', '110', '60', '', ''], ['69932096', 'EDGAR_COLEY_JIMENEZ', '28', '1,68', '88', 'M', '101002', '1', '28/03/2018', '73', '130', '90', '', ''], ['45119541', 'DELIMIRA_GALVAN_ALMANZA', '34', '1,68', '77', 'F', '101001', '1', '28/03/2018', '78', '130', '90', '', ''], ['77032572', 'DAWIN_CASTILLO_SIMANCAS', '60', '1,90', '93', 'M', '101003', '2', '29/03/2018', '84', '150', '60', '', ''], ['33604746', 'CAROLINA_CARABALLO_CANTILLO', '33', '1,56', '68', 'F', '101002', '1', '29/03/2018', '75', '140', '70', '', ''], ['24271381', 'BETY_PEÑA_COHEN', '29', '1,66', '70', 'F', '101001', '3', '29/03/2018', '81', '120', '70', '', ''], ['87804237', 'JOSE_ALEXANDER_TORRES_CAMPILLO', '23', '1,72', '75', 'M', '101004', '3', '29/03/2018', '74', '120', '90', '', '']]\n"
     ]
    }
   ],
   "source": [
    "# En la posición cero se encuentran los siguientes datos \n",
    "# ['Nombre', 'taller', 'parcial', 'quiz'], los cuales serán eliminados \n",
    "del lista1[0] \n",
    "print(\"lista 1 -->\\n\", lista1)"
   ]
  },
  {
   "cell_type": "code",
   "execution_count": 5,
   "metadata": {},
   "outputs": [
    {
     "name": "stdout",
     "output_type": "stream",
     "text": [
      "\n",
      "['101002', '101003', '101002', '101001', '101001', '101004', '101001', '101004', '101002', '101003', '101002', '101004', '101002', '101002', '101003', '101003', '101004', '101001', '101001', '101002', '101001', '101004', '101001', '101002', '101001', '101004', '101004', '101003', '101004', '101002', '101001', '101002', '101001', '101002', '101001', '101003', '101002', '101001', '101004']\n"
     ]
    }
   ],
   "source": [
    "# Declara lista \n",
    "codigo = [] \n",
    "# Recorremos las filas y columnas\n",
    "for i in range(len(lista1)): \n",
    "    for j in range(len(lista1[i])): \n",
    "        # Se obtiene una lista de los codigos \n",
    "        elementos = lista1[i][6] \n",
    "    # Añadimos los elementos recogidos en la lista codigos\n",
    "    codigo.append(elementos) \n",
    "print()\n",
    "print(codigo)"
   ]
  },
  {
   "cell_type": "code",
   "execution_count": 6,
   "metadata": {},
   "outputs": [
    {
     "name": "stdout",
     "output_type": "stream",
     "text": [
      "12\n",
      "12\n",
      "6\n",
      "9\n"
     ]
    }
   ],
   "source": [
    "cont1 = 0\n",
    "cont2 = 0\n",
    "cont3 = 0\n",
    "cont4 = 0\n",
    "\n",
    "for x in codigo:\n",
    "    if x == '101001':\n",
    "        cont1 += 1\n",
    "    elif x == '101002':\n",
    "        cont2 += 1        \n",
    "    elif x == '101003':\n",
    "        cont3 += 1\n",
    "    elif x == '101004':\n",
    "        cont4 += 1\n",
    "        \n",
    "print(f\"{cont1}\\n{cont2}\\n{cont3}\\n{cont4}\")"
   ]
  },
  {
   "cell_type": "code",
   "execution_count": 7,
   "metadata": {},
   "outputs": [
    {
     "name": "stdout",
     "output_type": "stream",
     "text": [
      "\n",
      "['M', 'M', 'F', 'M', 'F', 'F', 'F', 'F', 'M', 'M', 'F', 'M', 'M', 'M', 'M', 'F', 'M', 'M', 'F', 'M', 'M', 'M', 'M', 'F', 'M', 'M', 'M', 'F', 'M', 'M', 'F', 'M', 'F', 'M', 'F', 'M', 'F', 'F', 'M']\n"
     ]
    }
   ],
   "source": [
    "# Declara lista \n",
    "sexo = [] \n",
    "# Recorremos las filas y columnas\n",
    "for i in range(len(lista1)): \n",
    "    for j in range(len(lista1[i])): \n",
    "        # Se obtiene una lista de los codigos \n",
    "        elementos = lista1[i][5] \n",
    "    # Añadimos los elementos recogidos en la lista codigos\n",
    "    sexo.append(elementos) \n",
    "print()\n",
    "print(sexo)"
   ]
  },
  {
   "cell_type": "code",
   "execution_count": 8,
   "metadata": {
    "scrolled": true
   },
   "outputs": [
    {
     "name": "stdout",
     "output_type": "stream",
     "text": [
      "5\n",
      "8\n",
      "4\n",
      "7\n",
      "\n",
      "7\n",
      "4\n",
      "2\n",
      "2\n",
      "\n",
      "13%\n",
      "21%\n",
      "10%\n",
      "18%\n",
      "\n",
      "18%\n",
      "10%\n",
      "5%\n",
      "5%\n"
     ]
    }
   ],
   "source": [
    "sexo1M = 0\n",
    "sexo2M = 0\n",
    "sexo3M = 0\n",
    "sexo4M = 0\n",
    "\n",
    "sexo1F = 0\n",
    "sexo2F = 0\n",
    "sexo3F = 0\n",
    "sexo4F = 0\n",
    "\n",
    "for x in range(len(codigo)):\n",
    "    for y in range(len(sexo[x])):\n",
    "        if codigo[x] == '101001':\n",
    "            if sexo[x] == 'M':\n",
    "                sexo1M += 1\n",
    "            else:\n",
    "                sexo1F += 1\n",
    "                \n",
    "        if codigo[x] == '101002':\n",
    "            if sexo[x] == 'M':\n",
    "                sexo2M += 1\n",
    "            else:\n",
    "                sexo2F += 1\n",
    "                \n",
    "        if codigo[x] == '101003':\n",
    "            if sexo[x] == 'M':\n",
    "                sexo3M += 1\n",
    "            else:\n",
    "                sexo3F += 1\n",
    "                \n",
    "        if codigo[x] == '101004':\n",
    "            if sexo[x] == 'M':\n",
    "                sexo4M += 1\n",
    "            else:\n",
    "                sexo4F += 1\n",
    "\n",
    "print(f\"{sexo1M}\\n{sexo2M}\\n{sexo3M}\\n{sexo4M}\\n\")\n",
    "print(f\"{sexo1F}\\n{sexo2F}\\n{sexo3F}\\n{sexo4F}\\n\")\n",
    "\n",
    "pM1 = round( ( (sexo1M / len(sexo)) ) * 100)\n",
    "pM2 = round( ( (sexo2M / len(sexo)) ) * 100)\n",
    "pM3 = round( ( (sexo3M / len(sexo)) ) * 100)\n",
    "pM4 = round( ( (sexo4M / len(sexo)) ) * 100)\n",
    "\n",
    "print(f\"{pM1}%\")\n",
    "print(f\"{pM2}%\")\n",
    "print(f\"{pM3}%\")\n",
    "print(f\"{pM4}%\")\n",
    "\n",
    "print()\n",
    "\n",
    "pF1 = round( ( (sexo1F / len(sexo)) ) * 100)\n",
    "pF2 = round( ( (sexo2F / len(sexo)) ) * 100)\n",
    "pF3 = round( ( (sexo3F / len(sexo)) ) * 100)\n",
    "pF4 = round( ( (sexo4F / len(sexo)) ) * 100)\n",
    "\n",
    "print(f\"{pF1}%\")\n",
    "print(f\"{pF2}%\")\n",
    "print(f\"{pF3}%\")\n",
    "print(f\"{pF4}%\")"
   ]
  },
  {
   "cell_type": "code",
   "execution_count": 9,
   "metadata": {},
   "outputs": [
    {
     "name": "stdout",
     "output_type": "stream",
     "text": [
      "\n",
      "[['1', '85'], ['1', '66'], ['1', '73'], ['1', '86'], ['1', '76'], ['1', '71'], ['1', '64'], ['1', '75'], ['1', '87'], ['1', '82'], ['1', '66'], ['1', '91'], ['1', '93'], ['1', '74'], ['1', '73'], ['1', '69'], ['1', '93'], ['1', '66'], ['1', '68'], ['1', '73'], ['1', '83'], ['1', '83'], ['1', '82'], ['1', '73'], ['1', '71'], ['1', '81'], ['1', '81'], ['1', '55'], ['1', '85'], ['1', '84'], ['1', '55'], ['1', '73'], ['1', '59'], ['1', '68'], ['1', '68'], ['1', '90'], ['1', '56'], ['1', '66'], ['1', '72']]\n"
     ]
    }
   ],
   "source": [
    "# Declara lista \n",
    "estatura = [] \n",
    "# Recorremos las filas y columnas\n",
    "for i in range(len(lista1)): \n",
    "    for j in range(len(lista1[i])): \n",
    "        # Se obtiene una lista de los codigos \n",
    "        elementos = lista1[i][3].strip().split(\",\") \n",
    "    # Añadimos los elementos recogidos en la lista codigos\n",
    "    estatura.append(elementos) \n",
    "print()\n",
    "print(estatura)"
   ]
  },
  {
   "cell_type": "code",
   "execution_count": 13,
   "metadata": {},
   "outputs": [
    {
     "name": "stdout",
     "output_type": "stream",
     "text": [
      "[['1', '85'], ['1', '66'], ['1', '73'], ['1', '86'], ['1', '76'], ['1', '71'], ['1', '64'], ['1', '75'], ['1', '87'], ['1', '82'], ['1', '66'], ['1', '91'], ['1', '93'], ['1', '74'], ['1', '73'], ['1', '69'], ['1', '93'], ['1', '66'], ['1', '68'], ['1', '73'], ['1', '83'], ['1', '83'], ['1', '82'], ['1', '73'], ['1', '71'], ['1', '81'], ['1', '81'], ['1', '55'], ['1', '85'], ['1', '84'], ['1', '55'], ['1', '73'], ['1', '59'], ['1', '68'], ['1', '68'], ['1', '90'], ['1', '56'], ['1', '66'], ['1', '72']]\n",
      "\n",
      "[1.85, 1.66, 1.73, 1.86, 1.76, 1.71, 1.64, 1.75, 1.87, 1.82, 1.66, 1.91, 1.93, 1.74, 1.73, 1.69, 1.93, 1.66, 1.68, 1.73, 1.83, 1.83, 1.82, 1.73, 1.71, 1.81, 1.81, 1.55, 1.85, 1.84, 1.55, 1.73, 1.59, 1.68, 1.68, 1.9, 1.56, 1.66, 1.72]\n"
     ]
    }
   ],
   "source": [
    "# Declara lista \n",
    "lista3 = [] \n",
    "print(estatura) \n",
    "# Recorremos el rango de datos\n",
    "for i in range(len(estatura)): \n",
    "    # Reiniciamos el contador\n",
    "    acum = 99\n",
    "    for j in range(len(estatura[i])): \n",
    "        #Se suman las notas de cada estudiante \n",
    "        acum = acum + float(estatura[i][j]) \n",
    "    # Añadimos las notas calculadas en la lista\n",
    "    lista3.append(acum/100) \n",
    "print()\n",
    "print(lista3)"
   ]
  },
  {
   "cell_type": "code",
   "execution_count": 12,
   "metadata": {},
   "outputs": [
    {
     "name": "stdout",
     "output_type": "stream",
     "text": [
      "3.42\n",
      "2.76\n",
      "2.99\n",
      "3.46\n",
      "3.1\n",
      "2.92\n",
      "2.69\n",
      "3.06\n",
      "3.5\n",
      "3.31\n",
      "2.76\n",
      "3.65\n",
      "3.72\n",
      "3.03\n",
      "2.99\n",
      "2.86\n",
      "3.72\n",
      "2.76\n",
      "2.82\n",
      "2.99\n",
      "3.35\n",
      "3.35\n",
      "3.31\n",
      "2.99\n",
      "2.92\n",
      "3.28\n",
      "3.28\n",
      "2.4\n",
      "3.42\n",
      "3.39\n",
      "2.4\n",
      "2.99\n",
      "2.53\n",
      "2.82\n",
      "2.82\n",
      "3.61\n",
      "2.43\n",
      "2.76\n",
      "2.96\n"
     ]
    }
   ],
   "source": [
    "for x in lista3:\n",
    "    print(round(x**2, 2))"
   ]
  },
  {
   "cell_type": "code",
   "execution_count": null,
   "metadata": {},
   "outputs": [],
   "source": []
  },
  {
   "cell_type": "code",
   "execution_count": null,
   "metadata": {},
   "outputs": [],
   "source": []
  }
 ],
 "metadata": {
  "kernelspec": {
   "display_name": "Python 3",
   "language": "python",
   "name": "python3"
  },
  "language_info": {
   "codemirror_mode": {
    "name": "ipython",
    "version": 3
   },
   "file_extension": ".py",
   "mimetype": "text/x-python",
   "name": "python",
   "nbconvert_exporter": "python",
   "pygments_lexer": "ipython3",
   "version": "3.7.3"
  }
 },
 "nbformat": 4,
 "nbformat_minor": 2
}

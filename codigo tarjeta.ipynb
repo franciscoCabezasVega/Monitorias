{
 "cells": [
  {
   "cell_type": "code",
   "execution_count": 1,
   "metadata": {},
   "outputs": [
    {
     "name": "stdout",
     "output_type": "stream",
     "text": [
      "Cantidad del credito actual: 5000\n",
      "\n",
      "Numero de tarjetas: 5\n",
      "\n",
      "ingrese tipo de trajeta nº 1: 1\n",
      "ingrese tipo de trajeta nº 2: 2\n",
      "ingrese tipo de trajeta nº 3: 3\n",
      "ingrese tipo de trajeta nº 4: 4\n",
      "ingrese tipo de trajeta nº 5: 5\n",
      "\n",
      "Elementos de la lista:  [1, 2, 3, 4, 5]\n",
      "\n",
      "El elemento mayor es:  5\n",
      "\n",
      "Su credito sera de:  7500.0\n"
     ]
    }
   ],
   "source": [
    "def banco():\n",
    "    \n",
    "    credito = float(input(\"Cantidad del credito actual: \"))\n",
    "    \n",
    "    print(\"\")\n",
    "    \n",
    "    nT = int(input(\"Numero de tarjetas: \"))\n",
    "    \n",
    "    print(\"\")\n",
    "    \n",
    "    tipoT = []\n",
    "    \n",
    "    for i in range(nT):\n",
    "        \n",
    "        acu = i+1\n",
    "        \n",
    "        x = int(input(f\"ingrese tipo de trajeta nº {acu}: \"))\n",
    "        \n",
    "        tipoT.append(x)\n",
    "    \n",
    "    print(\"\")\n",
    "    \n",
    "    print(\"Elementos de la lista: \", tipoT)\n",
    "    \n",
    "    print(\"\")\n",
    "    \n",
    "    print(\"El elemento mayor es: \", max(tipoT) )\n",
    "    \n",
    "    print(\"\")\n",
    "    \n",
    "    if(max(tipoT) == 1):\n",
    "        \n",
    "        credito += (credito * 0.25)\n",
    "        \n",
    "        print(\"Su credito sera de: \", credito )\n",
    "        \n",
    "    elif(max(tipoT) == 2):\n",
    "        \n",
    "        credito += (credito * 0.35)\n",
    "        \n",
    "        print(\"Su credito sera de: \", credito )\n",
    "        \n",
    "    elif(max(tipoT) == 3):\n",
    "        \n",
    "        credito += (credito * 0.40)\n",
    "        \n",
    "        print(\"Su credito sera de: \", credito )\n",
    "    \n",
    "    else:\n",
    "        \n",
    "        credito += (credito * 0.50)\n",
    "        \n",
    "        print(\"Su credito sera de: \", credito )\n",
    "        \n",
    "banco()"
   ]
  },
  {
   "cell_type": "code",
   "execution_count": null,
   "metadata": {},
   "outputs": [],
   "source": []
  }
 ],
 "metadata": {
  "kernelspec": {
   "display_name": "Python 3",
   "language": "python",
   "name": "python3"
  },
  "language_info": {
   "codemirror_mode": {
    "name": "ipython",
    "version": 3
   },
   "file_extension": ".py",
   "mimetype": "text/x-python",
   "name": "python",
   "nbconvert_exporter": "python",
   "pygments_lexer": "ipython3",
   "version": "3.7.1"
  }
 },
 "nbformat": 4,
 "nbformat_minor": 2
}

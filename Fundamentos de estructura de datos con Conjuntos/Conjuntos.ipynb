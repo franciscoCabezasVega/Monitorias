{
 "cells": [
  {
   "cell_type": "markdown",
   "metadata": {},
   "source": [
    "<div id=\"wrapper\" style=\"width:100%\">\n",
    "    <div style=\"width:49%; float:left;\">\n",
    "        <b><br />\n",
    "        Facultad de Ingeniería<br />\n",
    "        Programa de Ingeniería de Sistemas<br />\n",
    "        Algoritmos<br />\n",
    "       SETS Conjuntos : </b>\n",
    "    </div>\n",
    "    <div style=\"width:49%; overflow: hidden;\">\n",
    "        <img src=\"http://www.unitecnologica.edu.co/sites/all/themes/utbweb2016/logo.png\"/>\n",
    "    </div>\n",
    "\n",
    "</div>"
   ]
  },
  {
   "cell_type": "markdown",
   "metadata": {},
   "source": [
    "## ¿Qué es un conjunto en python?\n",
    "Un conjunto es una colección desordenada de elementos. Cada elemento es único (sin duplicados) y debe ser inmutable (que no se puede cambiar).\n",
    "\n",
    "Sin embargo, el propio conjunto es mutable. Podemos añadir o eliminar elementos de la misma.\n",
    "\n",
    "Los conjuntos se pueden utilizar para realizar operaciones  matemáticas como la Unión, la intersección, la diferencia simétrica etc."
   ]
  },
  {
   "cell_type": "markdown",
   "metadata": {},
   "source": [
    "## ¿Cómo crear un conjunto?\n",
    "Un conjunto se crea colocando todos los elementos (elementos) dentro de llaves  {}, separados por coma o usando la función incorporada set ().\n",
    "\n",
    "Puede tener cualquier número de elementos y pueden ser de diversos tipos (entero, real, tupla, secuencia etc.). Pero un conjunto no puede tener un elemento mutable, como List, Set o Dictionary, como su elemento."
   ]
  },
  {
   "cell_type": "code",
   "execution_count": 21,
   "metadata": {
    "scrolled": false
   },
   "outputs": [
    {
     "name": "stdout",
     "output_type": "stream",
     "text": [
      "{1, 2, 3}\n"
     ]
    }
   ],
   "source": [
    "# conjunto de enteros\n",
    "conjunto = {1, 2, 3}\n",
    "print(conjunto)"
   ]
  },
  {
   "cell_type": "code",
   "execution_count": 22,
   "metadata": {},
   "outputs": [
    {
     "name": "stdout",
     "output_type": "stream",
     "text": [
      "{1.0, 'Hola', (1, 2, 3)}\n"
     ]
    }
   ],
   "source": [
    "# Conjunto de tipos diferentes de datos\n",
    "conjunto = {1.0, \"Hola\", (1, 2, 3)}\n",
    "print(conjunto)"
   ]
  },
  {
   "cell_type": "code",
   "execution_count": 23,
   "metadata": {},
   "outputs": [
    {
     "name": "stdout",
     "output_type": "stream",
     "text": [
      "{1, 2, 3, 4}\n"
     ]
    }
   ],
   "source": [
    "# Un conjunto no debe tener elementos repetidos\n",
    "# salida: {1, 2, 3, 4}\n",
    "conjunto = {1,2,3,4,3,2}\n",
    "print(conjunto)\n",
    "\n",
    "# El conjunto no tiene elementos mutables\n",
    "# ejemplo [3, 4] es una lista mutable"
   ]
  },
  {
   "cell_type": "code",
   "execution_count": 24,
   "metadata": {},
   "outputs": [
    {
     "name": "stdout",
     "output_type": "stream",
     "text": [
      "{1, 2, 3}\n"
     ]
    }
   ],
   "source": [
    "# nosotros podemos formar un conjunto con maximo una lista\n",
    "# Salida: {1, 2, 3}\n",
    "conjunto = set([1,2,3,2,2])\n",
    "print(conjunto)"
   ]
  },
  {
   "cell_type": "code",
   "execution_count": 25,
   "metadata": {},
   "outputs": [
    {
     "ename": "TypeError",
     "evalue": "unhashable type: 'list'",
     "output_type": "error",
     "traceback": [
      "\u001b[0;31m---------------------------------------------------------------------------\u001b[0m",
      "\u001b[0;31mTypeError\u001b[0m                                 Traceback (most recent call last)",
      "\u001b[0;32m<ipython-input-25-af8d94eb4dcb>\u001b[0m in \u001b[0;36m<module>\u001b[0;34m\u001b[0m\n\u001b[1;32m      1\u001b[0m \u001b[0;31m# El siguiente conjunto es erróneo, unhashable equivale a no aceptable\u001b[0m\u001b[0;34m\u001b[0m\u001b[0;34m\u001b[0m\u001b[0;34m\u001b[0m\u001b[0m\n\u001b[0;32m----> 2\u001b[0;31m \u001b[0mconjunto\u001b[0m \u001b[0;34m=\u001b[0m \u001b[0;34m{\u001b[0m\u001b[0;36m1\u001b[0m\u001b[0;34m,\u001b[0m \u001b[0;36m2\u001b[0m\u001b[0;34m,\u001b[0m \u001b[0;34m[\u001b[0m\u001b[0;36m3\u001b[0m\u001b[0;34m,\u001b[0m \u001b[0;36m4\u001b[0m\u001b[0;34m]\u001b[0m\u001b[0;34m}\u001b[0m\u001b[0;34m\u001b[0m\u001b[0;34m\u001b[0m\u001b[0m\n\u001b[0m",
      "\u001b[0;31mTypeError\u001b[0m: unhashable type: 'list'"
     ]
    }
   ],
   "source": [
    "# El siguiente conjunto es erróneo, unhashable equivale a no aceptable\n",
    "conjunto = {1, 2, [3, 4]}"
   ]
  },
  {
   "cell_type": "markdown",
   "metadata": {},
   "source": [
    "Tenga cuidado cuando quiera crear un conjunto se puede confundir con un diccionario.\n",
    "\n",
    "Las llaves identifican a los diccionarios {}.\n",
    "\n",
    "\n",
    "Un diccionario vacío en Python se puede formar en forma similar a las listas, sin argumentos. Para construir un conjunto sin ningún elemento utilizamos la función set () sin ningún argumento."
   ]
  },
  {
   "cell_type": "code",
   "execution_count": 26,
   "metadata": {},
   "outputs": [
    {
     "name": "stdout",
     "output_type": "stream",
     "text": [
      " el dato tipo a es <class 'dict'>\n",
      " la estructura  a es de tipo <class 'dict'>\n",
      " la estructura  b es de tipo <class 'set'>\n",
      " la estructura  c es de tipo <class 'list'>\n",
      " la estructura  d es de tipo <class 'tuple'>\n",
      " la variable  e es de tipo <class 'int'>\n",
      " la variable  f es de tipo <class 'float'>\n",
      " la variable  g es de tipo <class 'str'>\n"
     ]
    }
   ],
   "source": [
    "\n",
    "a = {}    # Un diccionario vacío se inicialización con {}\n",
    "b = set() # Un conjunto se inicialización con set()\n",
    "c = []    # Una lista se inicialización con []\n",
    "d = ()    # Una tupla se inicialización con []\n",
    "e = 0     # inicialización de una variable entera\n",
    "f = 0.0   # inicialización de una variable real\n",
    "g = ''    # inicialización de una variable cadena o caracter\n",
    "\n",
    "# Para chequear el tipo de estrutura se utiliza type\n",
    "print (\" el dato tipo a es\",type(a))\n",
    "\n",
    "# dos formas de utilización del formato\n",
    "\n",
    "print(f\" la estructura  a es de tipo {type(a)}\")\n",
    "print(f\" la estructura  b es de tipo {type(b)}\")\n",
    "print(f\" la estructura  c es de tipo {type(c)}\")\n",
    "print(f\" la estructura  d es de tipo {type(d)}\")\n",
    "print(f\" la variable  e es de tipo {type(e)}\")\n",
    "print(f\" la variable  f es de tipo {type(f)}\")\n",
    "print(f\" la variable  g es de tipo {type(g)}\")\n",
    "\n",
    "\n",
    "\n",
    "\n"
   ]
  },
  {
   "cell_type": "markdown",
   "metadata": {},
   "source": [
    "## ¿Cómo cambiar un conjunto en Python?\n",
    "Los conjuntos son mutables. Pero como están desordenados, la indexación no tiene sentido.\n",
    "\n",
    "No podemos acceder o cambiar un elemento de set mediante indexación o corte. Set no lo soporta.\n",
    "\n",
    "Podemos agregar un solo elemento usando el método Add () y varios elementos usando el método Update (). El método Update () puede tomar tuplas, listas, cadenas u otros conjuntos como argumento. En todos los casos, se evitan los duplicados."
   ]
  },
  {
   "cell_type": "code",
   "execution_count": 27,
   "metadata": {},
   "outputs": [
    {
     "name": "stdout",
     "output_type": "stream",
     "text": [
      "{1, 3}\n"
     ]
    }
   ],
   "source": [
    "# Inicialización del conjunto\n",
    "conjunto = {1,3}\n",
    "print(conjunto)"
   ]
  },
  {
   "cell_type": "code",
   "execution_count": 28,
   "metadata": {},
   "outputs": [
    {
     "ename": "TypeError",
     "evalue": "'set' object does not support indexing",
     "output_type": "error",
     "traceback": [
      "\u001b[0;31m---------------------------------------------------------------------------\u001b[0m",
      "\u001b[0;31mTypeError\u001b[0m                                 Traceback (most recent call last)",
      "\u001b[0;32m<ipython-input-28-26249afa9f8e>\u001b[0m in \u001b[0;36m<module>\u001b[0;34m\u001b[0m\n\u001b[1;32m      2\u001b[0m \u001b[0;31m# Los conjuntos no soportan indices\u001b[0m\u001b[0;34m\u001b[0m\u001b[0;34m\u001b[0m\u001b[0;34m\u001b[0m\u001b[0m\n\u001b[1;32m      3\u001b[0m \u001b[0;34m\u001b[0m\u001b[0m\n\u001b[0;32m----> 4\u001b[0;31m \u001b[0mprint\u001b[0m\u001b[0;34m(\u001b[0m\u001b[0mconjunto\u001b[0m\u001b[0;34m[\u001b[0m\u001b[0;36m0\u001b[0m\u001b[0;34m]\u001b[0m\u001b[0;34m)\u001b[0m\u001b[0;34m\u001b[0m\u001b[0;34m\u001b[0m\u001b[0m\n\u001b[0m",
      "\u001b[0;31mTypeError\u001b[0m: 'set' object does not support indexing"
     ]
    }
   ],
   "source": [
    "# si usted intenta referirse a un elemento con el índice, produce error\n",
    "# Los conjuntos no soportan indices\n",
    "\n",
    "print(conjunto[0])"
   ]
  },
  {
   "cell_type": "markdown",
   "metadata": {},
   "source": [
    "## Método add"
   ]
  },
  {
   "cell_type": "code",
   "execution_count": 29,
   "metadata": {},
   "outputs": [
    {
     "name": "stdout",
     "output_type": "stream",
     "text": [
      "{1, 2, 3}\n"
     ]
    }
   ],
   "source": [
    "# Agregar un elemento,el conjunto es {1, 3}\n",
    "# salida: {1, 2, 3}\n",
    "conjunto.add(2)\n",
    "print(conjunto)"
   ]
  },
  {
   "cell_type": "markdown",
   "metadata": {},
   "source": [
    "## Método update"
   ]
  },
  {
   "cell_type": "code",
   "execution_count": null,
   "metadata": {},
   "outputs": [],
   "source": [
    "# para agregar multiples elementos a {1, 2, 3}\n",
    "# Output: {1, 2, 3, 4}, observe que el conjunto no admite los elementos repetidos\n",
    "conjunto.update([2,3,4])\n",
    "print(conjunto)"
   ]
  },
  {
   "cell_type": "code",
   "execution_count": null,
   "metadata": {},
   "outputs": [],
   "source": [
    "# Es permitido agregar listas y otros conjuntos\n",
    "# salida: {1, 2, 3, 4, 5, 6, 8}\n",
    "conjunto.update([4,5], {1,6,8})\n",
    "print(conjunto)"
   ]
  },
  {
   "cell_type": "markdown",
   "metadata": {},
   "source": [
    "## ¿Cómo cambiar los elementos de un conjunto?\n",
    "\n",
    "Los conjuntos son mutables. Pero como están desordenados, la indexación no tiene sentido.\n",
    "\n",
    "No podemos acceder o cambiar un elemento de set mediante indexación o corte. Set no lo soporta.\n",
    "\n",
    "Podemos agregar un solo elemento usando **el método Add ()** y varios elementos usando **el método Update ()**. \n",
    "\n",
    "El método Update () puede tomar tuplas, listas, cadenas u otros conjuntos como argumento. En todos los casos, se evitan los duplicados."
   ]
  },
  {
   "cell_type": "code",
   "execution_count": 32,
   "metadata": {},
   "outputs": [
    {
     "name": "stdout",
     "output_type": "stream",
     "text": [
      "{1, 3, 4, 5, 6}\n"
     ]
    }
   ],
   "source": [
    "# Inicialización del conjunto\n",
    "conjunto = {1, 3, 4, 5, 6}\n",
    "print(conjunto)"
   ]
  },
  {
   "cell_type": "markdown",
   "metadata": {},
   "source": [
    "### discard: elimina un elemento"
   ]
  },
  {
   "cell_type": "code",
   "execution_count": 33,
   "metadata": {},
   "outputs": [
    {
     "name": "stdout",
     "output_type": "stream",
     "text": [
      "{1, 3, 5, 6}\n"
     ]
    }
   ],
   "source": [
    "# eliminación de un elemento\n",
    "# Salida: {1, 3, 5, 6}\n",
    "conjunto.discard(4)\n",
    "print(conjunto)"
   ]
  },
  {
   "cell_type": "markdown",
   "metadata": {},
   "source": [
    "###  Método remove"
   ]
  },
  {
   "cell_type": "code",
   "execution_count": 34,
   "metadata": {},
   "outputs": [
    {
     "name": "stdout",
     "output_type": "stream",
     "text": [
      "{1, 3, 5, 6}\n",
      "{1, 3, 5}\n"
     ]
    }
   ],
   "source": [
    "# remove an element\n",
    "# Salida: {1, 3, 5}\n",
    "print(conjunto)\n",
    "conjunto.remove(6)\n",
    "print(conjunto)"
   ]
  },
  {
   "cell_type": "code",
   "execution_count": 35,
   "metadata": {},
   "outputs": [
    {
     "name": "stdout",
     "output_type": "stream",
     "text": [
      "{1, 3, 5}\n",
      "{1, 3, 5}\n"
     ]
    }
   ],
   "source": [
    "# discard versus remove\n",
    "# Solo una de ellas produce error\n",
    "# Salida: {1, 3, 5}\n",
    "print(conjunto)\n",
    "conjunto.discard(2)\n",
    "print(conjunto)"
   ]
  },
  {
   "cell_type": "code",
   "execution_count": 36,
   "metadata": {},
   "outputs": [
    {
     "ename": "KeyError",
     "evalue": "2",
     "output_type": "error",
     "traceback": [
      "\u001b[0;31m---------------------------------------------------------------------------\u001b[0m",
      "\u001b[0;31mKeyError\u001b[0m                                  Traceback (most recent call last)",
      "\u001b[0;32m<ipython-input-36-8f3efdaedcbe>\u001b[0m in \u001b[0;36m<module>\u001b[0;34m\u001b[0m\n\u001b[1;32m      2\u001b[0m \u001b[0;31m# es un error\u001b[0m\u001b[0;34m\u001b[0m\u001b[0;34m\u001b[0m\u001b[0;34m\u001b[0m\u001b[0m\n\u001b[1;32m      3\u001b[0m \u001b[0;31m# Salida: {1, 3, 5}\u001b[0m\u001b[0;34m\u001b[0m\u001b[0;34m\u001b[0m\u001b[0;34m\u001b[0m\u001b[0m\n\u001b[0;32m----> 4\u001b[0;31m \u001b[0mconjunto\u001b[0m\u001b[0;34m.\u001b[0m\u001b[0mremove\u001b[0m\u001b[0;34m(\u001b[0m\u001b[0;36m2\u001b[0m\u001b[0;34m)\u001b[0m\u001b[0;34m\u001b[0m\u001b[0;34m\u001b[0m\u001b[0m\n\u001b[0m\u001b[1;32m      5\u001b[0m \u001b[0mprint\u001b[0m\u001b[0;34m(\u001b[0m\u001b[0mconjunto\u001b[0m\u001b[0;34m)\u001b[0m\u001b[0;34m\u001b[0m\u001b[0;34m\u001b[0m\u001b[0m\n",
      "\u001b[0;31mKeyError\u001b[0m: 2"
     ]
    }
   ],
   "source": [
    "# discard versus remove\n",
    "# es un error\n",
    "# Salida: {1, 3, 5}\n",
    "conjunto.remove(2)\n",
    "print(conjunto)"
   ]
  },
  {
   "cell_type": "markdown",
   "metadata": {},
   "source": [
    "##  Métodos pop () y clear()\n",
    " Quita el primero elemento del conjunto. \n",
    "\n",
    "los valores del conjunto quedan en un orden arbitrario\n",
    "\n",
    "También podemos eliminar todos los elementos de un conjunto con Clear ()."
   ]
  },
  {
   "cell_type": "code",
   "execution_count": 37,
   "metadata": {},
   "outputs": [
    {
     "name": "stdout",
     "output_type": "stream",
     "text": [
      "{'H', 'l', 'o', ' ', 'd', 'a', 'u', 'n', 'm'}\n"
     ]
    }
   ],
   "source": [
    "# Inicialización del conjunto\n",
    "# Salida: conjunto único de elementos\n",
    "conjunto = set(\"Hola mundo\")\n",
    "print(conjunto)\n"
   ]
  },
  {
   "cell_type": "code",
   "execution_count": 38,
   "metadata": {},
   "outputs": [
    {
     "name": "stdout",
     "output_type": "stream",
     "text": [
      "H\n"
     ]
    }
   ],
   "source": [
    "# pop an element\n",
    "# Salida: muestra los elementos en orden aleatorio\n",
    "print(conjunto.pop())"
   ]
  },
  {
   "cell_type": "code",
   "execution_count": 39,
   "metadata": {},
   "outputs": [
    {
     "name": "stdout",
     "output_type": "stream",
     "text": [
      "{'l', 'o', ' ', 'd', 'a', 'u', 'n', 'm'}\n"
     ]
    }
   ],
   "source": [
    "print (conjunto)"
   ]
  },
  {
   "cell_type": "code",
   "execution_count": 40,
   "metadata": {},
   "outputs": [
    {
     "name": "stdout",
     "output_type": "stream",
     "text": [
      "{'o', ' ', 'd', 'a', 'u', 'n', 'm'}\n"
     ]
    }
   ],
   "source": [
    "# pop another element\n",
    "# Salida: random element\n",
    "conjunto.pop()\n",
    "print(conjunto)"
   ]
  },
  {
   "cell_type": "code",
   "execution_count": 41,
   "metadata": {},
   "outputs": [
    {
     "name": "stdout",
     "output_type": "stream",
     "text": [
      "set()\n"
     ]
    }
   ],
   "source": [
    "# borrar todos los elementos con clear\n",
    "#Salida: set()\n",
    "conjunto.clear()\n",
    "print(conjunto)"
   ]
  },
  {
   "cell_type": "markdown",
   "metadata": {},
   "source": [
    "# Operaciones con conjuntos de Python\n",
    "Los conjuntos se pueden utilizar para realizar operaciones matemáticas de conjunto  como Unión, intersección, diferencia y diferencia simétrica. Podemos hacer esto con los operadores o los métodos.\n",
    "\n",
    "Pensemos en los siguientes dos sets para las siguientes operaciones."
   ]
  },
  {
   "cell_type": "code",
   "execution_count": 10,
   "metadata": {},
   "outputs": [
    {
     "data": {
      "text/plain": [
       "{'a', 'b', 'c', 'd', 'r'}"
      ]
     },
     "execution_count": 10,
     "metadata": {},
     "output_type": "execute_result"
    }
   ],
   "source": [
    "a = set('abracadabra')\n",
    "b = set('alacazam')\n",
    "\n",
    "a # letras únicas en a"
   ]
  },
  {
   "cell_type": "code",
   "execution_count": 31,
   "metadata": {},
   "outputs": [
    {
     "data": {
      "text/plain": [
       "{'b', 'd', 'r'}"
      ]
     },
     "execution_count": 31,
     "metadata": {},
     "output_type": "execute_result"
    }
   ],
   "source": [
    "a = set('abracadabra')\n",
    "b = set('alacazam')\n",
    "\n",
    "a - b # letras en a pero no en b"
   ]
  },
  {
   "cell_type": "code",
   "execution_count": 12,
   "metadata": {},
   "outputs": [
    {
     "data": {
      "text/plain": [
       "{'a', 'b', 'c', 'd', 'l', 'm', 'r', 'z'}"
      ]
     },
     "execution_count": 12,
     "metadata": {},
     "output_type": "execute_result"
    }
   ],
   "source": [
    "a = set('abracadabra')\n",
    "b = set('alacazam')\n",
    "\n",
    "a | b # letras en a o en b o en ambas"
   ]
  },
  {
   "cell_type": "code",
   "execution_count": 13,
   "metadata": {},
   "outputs": [
    {
     "data": {
      "text/plain": [
       "{'a', 'c'}"
      ]
     },
     "execution_count": 13,
     "metadata": {},
     "output_type": "execute_result"
    }
   ],
   "source": [
    "a = set('abracadabra')\n",
    "b = set('alacazam')\n",
    "\n",
    "a & b # letras en a y en b"
   ]
  },
  {
   "cell_type": "code",
   "execution_count": 14,
   "metadata": {},
   "outputs": [
    {
     "data": {
      "text/plain": [
       "{'b', 'd', 'l', 'm', 'r', 'z'}"
      ]
     },
     "execution_count": 14,
     "metadata": {},
     "output_type": "execute_result"
    }
   ],
   "source": [
    "a = set('abracadabra')\n",
    "b = set('alacazam')\n",
    "\n",
    "a ^ b # letras en a o b pero no en ambos"
   ]
  },
  {
   "cell_type": "markdown",
   "metadata": {},
   "source": [
    "# Métodos con conjuntos\n",
    "\n",
    "1. add()\tAdd an element to a set\n",
    "2. clear()\tRemove all elements form a set\n",
    "3. copy()\tReturn a shallow copy of a set\n",
    "4. difference()\tReturn the difference of two or more sets as a new set\n",
    "5. difference_update()\tRemove all elements of another set from this set\n",
    "6. discard()\tRemove an element from set if it is a member. (Do nothing if the element is not in set)\n",
    "7. intersection()\tReturn the intersection of two sets as a new set\n",
    "8. intersection_update()\tUpdate the set with the intersection of itself and another\n",
    "9. isdisjoint()\tReturn True if two sets have a null intersection\n",
    "10. issubset()\tReturn True if another set contains this set\n",
    "11. issuperset()\tReturn True if this set contains another set\n",
    "11. pop()\tRemove and return an arbitary set element. Raise KeyError if the set is empty\n",
    "12. remove()\tRemove an element from a set. If the element is not a member, raise a KeyError\n",
    "13. symmetric_difference()\tReturn the symmetric difference of two sets as a new set\n",
    "14. symmetric_difference_update()\tUpdate a set with the symmetric difference of itself and another\n",
    "15. union()\tReturn the union of sets in a new set\n",
    "16. update()\tUpdate a set with the union of itself and others"
   ]
  },
  {
   "cell_type": "code",
   "execution_count": 4,
   "metadata": {},
   "outputs": [
    {
     "name": "stdout",
     "output_type": "stream",
     "text": [
      "{'manzana', 'pera', 'banana', 'naranja'}\n"
     ]
    }
   ],
   "source": [
    "canasta = {'manzana', 'naranja', 'manzana', 'pera', 'naranja', 'banana'}\n",
    "print (canasta) # muestra que se removieron los duplicados"
   ]
  },
  {
   "cell_type": "code",
   "execution_count": 5,
   "metadata": {},
   "outputs": [
    {
     "data": {
      "text/plain": [
       "True"
      ]
     },
     "execution_count": 5,
     "metadata": {},
     "output_type": "execute_result"
    }
   ],
   "source": [
    "'naranja' in canasta # verificación de pertenencia rápida"
   ]
  },
  {
   "cell_type": "code",
   "execution_count": 6,
   "metadata": {},
   "outputs": [
    {
     "data": {
      "text/plain": [
       "False"
      ]
     },
     "execution_count": 6,
     "metadata": {},
     "output_type": "execute_result"
    }
   ],
   "source": [
    "'yerba' in canasta # verificación de pertenencia rápida"
   ]
  },
  {
   "cell_type": "markdown",
   "metadata": {},
   "source": [
    "### Interactuando con cada elemento del conjunto"
   ]
  },
  {
   "cell_type": "code",
   "execution_count": 43,
   "metadata": {},
   "outputs": [
    {
     "name": "stdout",
     "output_type": "stream",
     "text": [
      "z\n",
      "a\n",
      "n\n",
      "m\n"
     ]
    }
   ],
   "source": [
    "# inicialización del conjunto\n",
    "conjunto = set(\"manzana\")\n",
    "for letra in set(conjunto):\n",
    "    print (letra)"
   ]
  },
  {
   "cell_type": "code",
   "execution_count": 42,
   "metadata": {},
   "outputs": [
    {
     "name": "stdout",
     "output_type": "stream",
     "text": [
      "2\n",
      "3\n",
      "5\n",
      "7\n",
      "11\n"
     ]
    }
   ],
   "source": [
    "primos = {2, 3, 5, 7, 11}\n",
    "for num in primos:\n",
    "    print(num)"
   ]
  },
  {
   "cell_type": "code",
   "execution_count": 20,
   "metadata": {},
   "outputs": [
    {
     "name": "stdout",
     "output_type": "stream",
     "text": [
      "r\n",
      "d\n"
     ]
    }
   ],
   "source": [
    "a = set('abracadabra') #forma rapida de declarar un conjunto y/o convertirlo\n",
    "\n",
    "b = set('abc')\n",
    "\n",
    "for x in a:\n",
    "    if x not in b:\n",
    "        print(x)\n",
    "\n",
    "# a = {x for x in 'abracadabra' if x not in 'abc'}"
   ]
  },
  {
   "cell_type": "markdown",
   "metadata": {},
   "source": [
    "## Funciones con conjuntos\n",
    "\n",
    "1. all() -->\tReturn True if all elements of the set are true (or if the set is empty).\n",
    "2. any()-->\tReturn True if any element of the set is true. If the set is empty, return False.\n",
    "3. enumerate()-->\tReturn an enumerate object. It contains the index and value of all the items of set as a pair.\n",
    "4. len()-->\tReturn the length (the number of items) in the set.\n",
    "5. max()-->\tReturn the largest item in the set.\n",
    "6. min()-->\tReturn the smallest item in the set.\n",
    "7. sorted()-->\tReturn a new sorted list from elements in the set(does not sort the set itself).\n",
    "8. sum()-->\tRetrun the sum of all elements in the set."
   ]
  },
  {
   "cell_type": "markdown",
   "metadata": {},
   "source": [
    "## Python Frozenset: conjuntos inmutables\n",
    "Frozenset es una nueva clase que tiene las características de un conjunto, pero sus elementos no se pueden cambiar una vez asignados. Mientras que las tuplas son listas inmutables, frozensets son conjuntos inmutables.\n",
    "\n",
    "Los conjuntos que son mutables son no hashable, por lo que no se pueden utilizar como claves de diccionario. Por otro lado, los frozensets son hashable y pueden ser usados como claves de un diccionario.\n",
    "\n",
    "Frozensets se puede crear usando la función frozenset ().\n",
    "\n",
    "Este tipo de soporte soporta métodos como:\n",
    "\n",
    "Copy (), Difference (), Intersection (), isdisjoint (), isSubset (), issuperset (), symmetric_difference () y Union (). Siendo inmutable no tiene el método que agrega o quita elementos.\n",
    "\n"
   ]
  },
  {
   "cell_type": "markdown",
   "metadata": {},
   "source": [
    "# Practicar los métodos"
   ]
  },
  {
   "cell_type": "code",
   "execution_count": null,
   "metadata": {},
   "outputs": [],
   "source": [
    "# Inicializando los siguientes conjuntos A, B, C, X, Y\n",
    "A = frozenset([1, 2, 3, 4])\n",
    "B = frozenset([3, 4, 5, 6])\n",
    "C = frozenset([7, 8, 9])\n",
    "X = {2,4,6,8}\n",
    "Y = set([1,3,5])\n",
    "print (A,B,C)\n",
    "print (X,Y)"
   ]
  },
  {
   "cell_type": "code",
   "execution_count": null,
   "metadata": {},
   "outputs": [],
   "source": [
    "# add no es permitido utilizarlo con conjuntos\n",
    "A.add(7)"
   ]
  },
  {
   "cell_type": "code",
   "execution_count": null,
   "metadata": {},
   "outputs": [],
   "source": [
    "print(A | X)"
   ]
  },
  {
   "cell_type": "code",
   "execution_count": null,
   "metadata": {},
   "outputs": [],
   "source": [
    "A.isdisjoint(C) # Disyunto, no tiene elementos comunes"
   ]
  },
  {
   "cell_type": "code",
   "execution_count": null,
   "metadata": {},
   "outputs": [],
   "source": [
    "A.isdisjoint(B) # No disyunto, hay elementos comunes"
   ]
  }
 ],
 "metadata": {
  "anaconda-cloud": {},
  "kernelspec": {
   "display_name": "Python 3",
   "language": "python",
   "name": "python3"
  },
  "language_info": {
   "codemirror_mode": {
    "name": "ipython",
    "version": 3
   },
   "file_extension": ".py",
   "mimetype": "text/x-python",
   "name": "python",
   "nbconvert_exporter": "python",
   "pygments_lexer": "ipython3",
   "version": "3.7.3"
  }
 },
 "nbformat": 4,
 "nbformat_minor": 1
}

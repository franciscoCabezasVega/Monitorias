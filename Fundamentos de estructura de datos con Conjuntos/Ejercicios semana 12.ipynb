{
 "cells": [
  {
   "cell_type": "code",
   "execution_count": 1,
   "metadata": {},
   "outputs": [
    {
     "name": "stdout",
     "output_type": "stream",
     "text": [
      "1\n",
      "1\n"
     ]
    }
   ],
   "source": [
    "#------------------PRIMER EJERCICIO------------------\n",
    "#conjunto = {x|x es un numero entero, tal que x\"=1\n",
    "\n",
    "conjunto = {-1,1}\n",
    "for i in conjunto: \n",
    "    print(i**2)"
   ]
  },
  {
   "cell_type": "code",
   "execution_count": 19,
   "metadata": {},
   "outputs": [
    {
     "name": "stdout",
     "output_type": "stream",
     "text": [
      "{0, 1, 2, 3, 4, 5, 6, 7, 8, 9, 10, 11}\n"
     ]
    }
   ],
   "source": [
    "#------------------SEGUNDO EJERCICIO------------------\n",
    "#conjunto = {x|x es un numero positivo menor que 12\n",
    "\n",
    "conjunto = set() #declara un conjunto vacio\n",
    "n = 11 #El limite del conjunto sera 11\n",
    "for i in range(0, n+1): #Ciclo del 0 al 11\n",
    "    conjunto.add(i) #Adiciona elemento por elemento al conjunto\n",
    "print (conjunto)#imprime el conjunto"
   ]
  },
  {
   "cell_type": "code",
   "execution_count": 2,
   "metadata": {},
   "outputs": [
    {
     "name": "stdout",
     "output_type": "stream",
     "text": [
      "[0, 1, 4, 9, 16, 25, 36, 49, 64, 81]\n",
      "\n",
      "Ingrese un numero: 20\n",
      "\n",
      "20 NO Pertenece al conjunto\n"
     ]
    }
   ],
   "source": [
    "#------------------TERCER EJERCICIO------------------\n",
    "#conjunto = {x|x es el cuadrado de un entero y x < 100\n",
    "\n",
    "conjuntoElevado = set() #declara un conjunto vacio\n",
    "n = 9 #El limite del conjunto sera 50\n",
    "\n",
    "for i in range(0, n+1): #Ciclo del 0 al 9\n",
    "    elevar = i ** 2 #Adiciona elemento por elemento elevado al conjunto\n",
    "    conjuntoElevado.add(elevar)\n",
    "\n",
    "ordenar = sorted(conjuntoElevado)\n",
    "\n",
    "print(ordenar)#imprime el conjunto\n",
    "print()\n",
    "\n",
    "#------------------TERCER EJERCICIO SEGUNDA PARTE-----\n",
    "x = int(input(\"Ingrese un numero: \"))\n",
    "print()\n",
    "if x in conjuntoElevado:\n",
    "    print(x, \"Pertenece al conjunto\")\n",
    "else:\n",
    "    print(x, \"NO Pertenece al conjunto\")"
   ]
  },
  {
   "cell_type": "code",
   "execution_count": 3,
   "metadata": {},
   "outputs": [
    {
     "name": "stdout",
     "output_type": "stream",
     "text": [
      "2\n",
      "16\n",
      "2\n"
     ]
    }
   ],
   "source": [
    "#-------------------CUARTO EJERCICIO------------------\n",
    "#conjunto = {x|x es un numero entero, tal que x\"=2\n",
    "\n",
    "import math\n",
    "\n",
    "conjunto = {-math.sqrt(2),math.sqrt(2)}\n",
    "\n",
    "conjunto.add(4)\n",
    "\n",
    "for i in conjunto: \n",
    "    print(round(i**2))"
   ]
  },
  {
   "cell_type": "code",
   "execution_count": 14,
   "metadata": {},
   "outputs": [
    {
     "name": "stdout",
     "output_type": "stream",
     "text": [
      "{2, 4, 6, 8, 10, 12, 14, 16, 18, 20, 22, 24, 26, 28, 30, 32, 34, 36, 38, 40, 42, 44, 46, 48, 50, 52, 54, 56, 58, 60, 62, 64, 66, 68, 70, 72, 74, 76, 78, 80, 82, 84, 86, 88, 90, 92, 94, 96, 98, 100}\n"
     ]
    }
   ],
   "source": [
    "#------------------QUINTO EJERCICIO------------------\n",
    "#conjunto = {x|x es un numero entero par, tal que x > 0 x<= 100\n",
    "\n",
    "conjunto = set() #declara un conjunto vacio\n",
    "n = 100 #El limite del conjunto sera 11\n",
    "for i in range(1, n+1): #Ciclo del 0 al 11\n",
    "    if i % 2 == 0:\n",
    "        conjunto.add(i) #Adiciona elemento por elemento al conjunto\n",
    "print(conjunto)#imprime el conjunto"
   ]
  },
  {
   "cell_type": "code",
   "execution_count": 7,
   "metadata": {},
   "outputs": [
    {
     "name": "stdout",
     "output_type": "stream",
     "text": [
      "La cardinalidad es 3\n"
     ]
    }
   ],
   "source": [
    "conjunto = {1,'hola',(4,5,6)}\n",
    "\n",
    "print(f\"La cardinalidad es {len(conjunto)}\")"
   ]
  },
  {
   "cell_type": "code",
   "execution_count": 20,
   "metadata": {},
   "outputs": [
    {
     "name": "stdout",
     "output_type": "stream",
     "text": [
      "{1, 2}\n"
     ]
    }
   ],
   "source": [
    "A = {1,2,4}\n",
    "B = {5,4,6}\n",
    "\n",
    "resultado = A-B\n",
    "\n",
    "print(resultado)"
   ]
  },
  {
   "cell_type": "code",
   "execution_count": null,
   "metadata": {},
   "outputs": [],
   "source": []
  }
 ],
 "metadata": {
  "kernelspec": {
   "display_name": "Python 3",
   "language": "python",
   "name": "python3"
  },
  "language_info": {
   "codemirror_mode": {
    "name": "ipython",
    "version": 3
   },
   "file_extension": ".py",
   "mimetype": "text/x-python",
   "name": "python",
   "nbconvert_exporter": "python",
   "pygments_lexer": "ipython3",
   "version": "3.7.3"
  }
 },
 "nbformat": 4,
 "nbformat_minor": 2
}

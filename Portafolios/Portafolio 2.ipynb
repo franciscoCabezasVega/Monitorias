{
 "cells": [
  {
   "cell_type": "markdown",
   "metadata": {},
   "source": [
    "# EJERCICIO PORTAFOLIO 2"
   ]
  },
  {
   "cell_type": "code",
   "execution_count": 1,
   "metadata": {},
   "outputs": [],
   "source": [
    "#Almacenar 150 números en un vector, almacenarlos en otro vector en orden inverso al vector original e imprimir el vector resultante."
   ]
  },
  {
   "cell_type": "code",
   "execution_count": 4,
   "metadata": {},
   "outputs": [
    {
     "name": "stdout",
     "output_type": "stream",
     "text": [
      "Digite la cantidad de numeros que desea ingresar: 4\n",
      "Ingrese el número 1: 2\n",
      "Ingrese el número 2: 5\n",
      "Ingrese el número 3: 6\n",
      "Ingrese el número 4: 8\n",
      "Lista es: [2, 5, 6, 8]\n",
      "Lista invertida es: [8, 6, 5, 2]\n"
     ]
    }
   ],
   "source": [
    "contador = 1\n",
    "n=int(input(\"Digite la cantidad de numeros que desea ingresar: \"))\n",
    "v=[0 for x in range(n)]\n",
    "v_inv=[0 for x in range(n)]\n",
    "for x in range(n):\n",
    "    v[x]=int(input(f\"Ingrese el número {contador}: \"))\n",
    "    contador += 1\n",
    "for x in range(n):\n",
    "    h=v[(n-1)-x]\n",
    "    v_inv[x]=h\n",
    "print(\"Lista es:\",v)\n",
    "print(\"Lista invertida es:\",v_inv)\n",
    "    \n",
    "    \n",
    "\n",
    "\n",
    "\n"
   ]
  },
  {
   "cell_type": "code",
   "execution_count": null,
   "metadata": {},
   "outputs": [],
   "source": []
  }
 ],
 "metadata": {
  "kernelspec": {
   "display_name": "Python 3",
   "language": "python",
   "name": "python3"
  },
  "language_info": {
   "codemirror_mode": {
    "name": "ipython",
    "version": 3
   },
   "file_extension": ".py",
   "mimetype": "text/x-python",
   "name": "python",
   "nbconvert_exporter": "python",
   "pygments_lexer": "ipython3",
   "version": "3.7.3"
  }
 },
 "nbformat": 4,
 "nbformat_minor": 2
}

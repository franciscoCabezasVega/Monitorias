{
 "cells": [
  {
   "cell_type": "code",
   "execution_count": 83,
   "metadata": {},
   "outputs": [
    {
     "name": "stdout",
     "output_type": "stream",
     "text": [
      "En total hay 1 alumnos\n",
      "\n",
      "En total hay 1 docentes\n",
      "\n",
      "En total hay un 6.666666666666667 % del Público en General\n",
      "\n"
     ]
    }
   ],
   "source": [
    "def recaudo():\n",
    "    \n",
    "    continuar = \"s\"\n",
    "    \n",
    "    lista = [1050963032, \"francisco\", \"m\", 25, 1, 45461981, \"cielo\" , \"f\", 50, 2, 1050963315, \"linda\", \"f\", 21, 3]\n",
    "    \"\"\"\n",
    "    while continuar == \"s\" or continuar == \"S\":\n",
    "     \n",
    "        cedula = int(input(\"Ingrese cedula: \"))\n",
    "        lista.append(cedula)\n",
    "        nombre = str(input(\"Ingrese nombre del participante: \"))\n",
    "        lista.append(nombre)\n",
    "        sexo = str(input(\"Seleccione su sexo: \\n m. Masculino \\n f. Femenino\\n\"))\n",
    "        lista.append(sexo)\n",
    "        edad = int(input(\"Digite su edad: \"))\n",
    "        lista.append(edad)\n",
    "        Procedencia = int(input(\"Por favor seleccione una de las siguientes opciones: \\n 1. Alumnos \\n 2. Docentes \\n 3. Público en General\\n\"))\n",
    "        lista.append(Procedencia)\n",
    "        \n",
    "        continuar = str(input(\"Presiones s o S para continuar, en caso contrario presione otra tecla: \"))\n",
    "        \n",
    "        if continuar == \"s\" or continuar == \"S\":     \n",
    "            continue\n",
    "        else:\n",
    "            print(\"El programa ha finalizado exitosamente\\n\")\n",
    "\n",
    "    print(lista)\n",
    "    \"\"\"\n",
    "    #Total de alumnos matriculados\n",
    "    \n",
    "    alumnos = 0\n",
    "    \n",
    "    for x in lista:\n",
    "        if x == 1:\n",
    "            alumnos += 1\n",
    "    \n",
    "    print(f\"En total hay {alumnos} alumnos\")\n",
    "    print(\"\")\n",
    "    \n",
    "    #Total de docentes matriculados\n",
    "    \n",
    "    docentes = 0\n",
    "    \n",
    "    for x in lista:\n",
    "        if x == 2:\n",
    "            docentes += 1\n",
    "    \n",
    "    print(f\"En total hay {docentes} docentes\")\n",
    "    print(\"\")\n",
    "    \n",
    "    #Porcentaje de publico general matriculado\n",
    "    \n",
    "    general = 0\n",
    "    \n",
    "    for x in lista:\n",
    "        if x == 3:\n",
    "            general += 1\n",
    "    \n",
    "    porcentaje = ( general / len(lista) ) * 100\n",
    "    \n",
    "    print(f\"En total hay un {porcentaje} % del Público en General\")\n",
    "    print(\"\")\n",
    "    \n",
    "recaudo()"
   ]
  },
  {
   "cell_type": "code",
   "execution_count": null,
   "metadata": {},
   "outputs": [],
   "source": []
  }
 ],
 "metadata": {
  "kernelspec": {
   "display_name": "Python 3",
   "language": "python",
   "name": "python3"
  }
 },
 "nbformat": 4,
 "nbformat_minor": 2
}
